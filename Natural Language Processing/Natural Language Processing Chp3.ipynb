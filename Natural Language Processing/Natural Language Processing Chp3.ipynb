{
 "cells": [
  {
   "cell_type": "markdown",
   "id": "e064d2a3-afc5-4b2e-a03e-ad43b30fda4a",
   "metadata": {},
   "source": [
    "### Chapter 3. Processing Raw Text\n",
    "\n",
    "##### 1. How can we write programs to access text from local files and from the Web\n",
    "##### 2. How can we split documents up into individual words and punctuation symbols\n",
    "##### 3. How can we write programs to produce formatted output and save it in a file\n"
   ]
  },
  {
   "cell_type": "code",
   "execution_count": 13,
   "id": "32b47c44-1fe2-4d3e-9636-b074368fa466",
   "metadata": {},
   "outputs": [],
   "source": [
    "from __future__ import division\n",
    "import nltk, re, pprint\n",
    "import requests\n",
    "import json"
   ]
  },
  {
   "cell_type": "markdown",
   "id": "dc8b1185-d38f-4933-b0df-5ff9d2cec51d",
   "metadata": {},
   "source": [
    "#### 3.1 Accessing Text from the Web and from Disk "
   ]
  },
  {
   "cell_type": "code",
   "execution_count": 3,
   "id": "09f98b56-8cdf-4b92-8b7f-c8fbaa361c7c",
   "metadata": {},
   "outputs": [],
   "source": [
    "# English translation of Crime and Punishment \n",
    "from urllib.request import urlopen\n",
    "url = \"https://www.gutenberg.org/files/2554/2554-0.txt\"\n",
    "raw_http = urlopen(url).read()\n",
    "raw = raw_http.decode(\"utf-8\")\n"
   ]
  },
  {
   "cell_type": "code",
   "execution_count": 5,
   "id": "eee28581-ed34-4f8d-bb2f-a59a76bd0510",
   "metadata": {},
   "outputs": [
    {
     "data": {
      "text/plain": [
       "1135214"
      ]
     },
     "execution_count": 5,
     "metadata": {},
     "output_type": "execute_result"
    }
   ],
   "source": [
    "len(raw)"
   ]
  },
  {
   "cell_type": "code",
   "execution_count": 7,
   "id": "39e4cbe4-f23f-4d6c-9759-afbe257eb174",
   "metadata": {},
   "outputs": [
    {
     "data": {
      "text/plain": [
       "str"
      ]
     },
     "execution_count": 7,
     "metadata": {},
     "output_type": "execute_result"
    }
   ],
   "source": [
    "type(raw)"
   ]
  },
  {
   "cell_type": "code",
   "execution_count": 9,
   "id": "3fd65a38-d580-42a4-9f99-47f0d7b25e61",
   "metadata": {},
   "outputs": [
    {
     "data": {
      "text/plain": [
       "'*** START OF THE PROJECT GUTENBERG EBOOK 2554 ***\\n\\n\\n\\n\\nCRIME AND PUNISHMENT\\n'"
      ]
     },
     "execution_count": 9,
     "metadata": {},
     "output_type": "execute_result"
    }
   ],
   "source": [
    "raw[:75]"
   ]
  },
  {
   "cell_type": "code",
   "execution_count": 15,
   "id": "55e41ade-c07d-400a-a1eb-b78b0ce5e04a",
   "metadata": {},
   "outputs": [
    {
     "data": {
      "text/plain": [
       "253688"
      ]
     },
     "execution_count": 15,
     "metadata": {},
     "output_type": "execute_result"
    }
   ],
   "source": [
    "tokens = nltk.word_tokenize(raw) # list of words and punctuations\n",
    "type(tokens)\n",
    "len(tokens)"
   ]
  },
  {
   "cell_type": "code",
   "execution_count": 17,
   "id": "c4728fb4-17c9-4cdc-a02d-c43c515f71b2",
   "metadata": {},
   "outputs": [
    {
     "data": {
      "text/plain": [
       "['*', '*', '*', 'START', 'OF', 'THE', 'PROJECT', 'GUTENBERG', 'EBOOK', '2554']"
      ]
     },
     "execution_count": 17,
     "metadata": {},
     "output_type": "execute_result"
    }
   ],
   "source": [
    "tokens[:10]"
   ]
  },
  {
   "cell_type": "code",
   "execution_count": 19,
   "id": "91f54ad0-115d-4b43-a8a6-ade3d9d5fc83",
   "metadata": {},
   "outputs": [],
   "source": [
    "text = nltk.Text(tokens)\n",
    "#text[1020:1060]"
   ]
  },
  {
   "cell_type": "code",
   "execution_count": 21,
   "id": "9b24d129-4429-470a-960b-77182733ce5a",
   "metadata": {},
   "outputs": [
    {
     "name": "stdout",
     "output_type": "stream",
     "text": [
      "Katerina Ivanovna; Pyotr Petrovitch; Pulcheria Alexandrovna; Avdotya\n",
      "Romanovna; Rodion Romanovitch; Marfa Petrovna; Sofya Semyonovna; old\n",
      "woman; Porfiry Petrovitch; Amalia Ivanovna; great deal; young man;\n",
      "Nikodim Fomitch; Ilya Petrovitch; Andrey Semyonovitch; Hay Market;\n",
      "Dmitri Prokofitch; Good heavens; police station; head clerk\n"
     ]
    }
   ],
   "source": [
    "# Project Gutenberg appears as a collocation\n",
    "text.collocations()"
   ]
  },
  {
   "cell_type": "code",
   "execution_count": 27,
   "id": "7e14b362-de9c-4503-80f8-09ffdcf154b5",
   "metadata": {},
   "outputs": [],
   "source": [
    "# Dealing with HTML: Much of the text on the Web is in the form of HTML documents\n",
    "\n",
    "# BBC News Story: \"Blondes to dies out in 200 Years\"\n",
    "\n",
    "url = \"http://news.bbc.co.uk/2/hi/health/2284783.stm\"\n",
    "html = urlopen(url).read() \n",
    "# print(html) to see HTML content"
   ]
  },
  {
   "cell_type": "code",
   "execution_count": 25,
   "id": "e7db0aa9-4092-45c1-8239-f7dd81a0d7a0",
   "metadata": {},
   "outputs": [],
   "source": [
    "from bs4 import BeautifulSoup \n",
    "# clean_html: takes an HTML string and returns raw text\n",
    "# get_text() from BeautifulSoup performs better then clean_html \n",
    "raw = BeautifulSoup(html).get_text()\n",
    "# tokenize raw text\n",
    "tokens = nltk.word_tokenize(raw)"
   ]
  },
  {
   "cell_type": "code",
   "execution_count": 29,
   "id": "f3f34598-1aae-40e7-b243-6825718e1b0e",
   "metadata": {},
   "outputs": [
    {
     "data": {
      "text/plain": [
       "1490"
      ]
     },
     "execution_count": 29,
     "metadata": {},
     "output_type": "execute_result"
    }
   ],
   "source": [
    "raw.find(\"gene\") # index number is 1490"
   ]
  },
  {
   "cell_type": "code",
   "execution_count": 40,
   "id": "04a1dbf1-e767-4dab-916c-7dd7dbf5c9f8",
   "metadata": {},
   "outputs": [
    {
     "name": "stdout",
     "output_type": "stream",
     "text": [
      "Displaying 5 of 5 matches:\n",
      "hey say too few people now carry the gene for blondes to last beyond the next \n",
      "blonde hair is caused by a recessive gene . In order for a child to have blond\n",
      " have blonde hair , it must have the gene on both sides of the family in the g\n",
      "ere is a disadvantage of having that gene or by chance . They do n't disappear\n",
      "des would disappear is if having the gene was a disadvantage and I do not thin\n"
     ]
    }
   ],
   "source": [
    "tokens = tokens[96:399] # find the start and end indexes of content \n",
    "text = nltk.Text(tokens)\n",
    "text.concordance('gene') # select the tokens of interest: 'gene'"
   ]
  },
  {
   "cell_type": "markdown",
   "id": "585c96dd-8a5a-481f-a718-8a403a010cdd",
   "metadata": {},
   "source": [
    "##### Processing Blogosphere: Accessing the content of a blog "
   ]
  },
  {
   "cell_type": "code",
   "execution_count": 31,
   "id": "12e7fc24-4e67-4605-a877-c51d0b8d38e1",
   "metadata": {},
   "outputs": [
    {
     "data": {
      "text/plain": [
       "'Language Log'"
      ]
     },
     "execution_count": 31,
     "metadata": {},
     "output_type": "execute_result"
    }
   ],
   "source": [
    "import feedparser\n",
    "llog = feedparser.parse(\"http://languagelog.ldc.upenn.edu/nll/?feed=atom\")\n",
    "llog['feed']['title']"
   ]
  },
  {
   "cell_type": "markdown",
   "id": "29763e2f-5e4e-4c95-b77d-841bc599855b",
   "metadata": {},
   "source": [
    "##### Reading Local Files "
   ]
  },
  {
   "cell_type": "code",
   "execution_count": 37,
   "id": "1d735b5c-5961-4c79-8a0e-7b3ce7fda961",
   "metadata": {},
   "outputs": [
    {
     "name": "stdout",
     "output_type": "stream",
     "text": [
      "If you have a your own collection of text files that you would like to access using the\n",
      "methods discussed earlier, you can easily load them with the help of NLTKâ€™s Plain\n",
      "textCorpusReader. Check the location of your files on your file system; in the following\n",
      "example, we have taken this to be the directory /usr/share/dict. Whatever the location,\n",
      "set this to be the value of corpus_root . The second parameter of the PlaintextCor\n",
      "pusReader initializer can be a list of fileids, like ['a.txt', 'test/b.txt'], or a pattern\n",
      "that matches all fileids, like '[abc]/.*\\.txt' (see Section 3.4 for information about\n",
      "regular expressions).\n"
     ]
    }
   ],
   "source": [
    "f = open('chp2myowncorpus.txt')\n",
    "raw = f.read()\n",
    "print(raw)\n"
   ]
  },
  {
   "cell_type": "code",
   "execution_count": 35,
   "id": "18e37473-a48c-4611-bbe0-cd7da0e84243",
   "metadata": {},
   "outputs": [
    {
     "data": {
      "text/plain": [
       "['.anaconda',\n",
       " '.conda',\n",
       " '.condarc',\n",
       " '.continuum',\n",
       " '.dotnet',\n",
       " '.idlerc',\n",
       " '.ipynb_checkpoints',\n",
       " '.ipython',\n",
       " '.jupyter',\n",
       " '.matplotlib',\n",
       " '.ms-ad',\n",
       " '.VirtualBox',\n",
       " '.virtual_documents',\n",
       " '3D Objects',\n",
       " 'absence.ipynb',\n",
       " 'anaconda3',\n",
       " 'AppData',\n",
       " 'Application Data',\n",
       " 'BullseyeCoverageError.txt',\n",
       " 'chp2myowncorpus.txt',\n",
       " 'Contacts',\n",
       " 'Cookies',\n",
       " 'Cross Validation.ipynb',\n",
       " 'Decision Tree.ipynb',\n",
       " 'Documents',\n",
       " 'Downloads',\n",
       " 'Favorites',\n",
       " 'iCloudPhotos',\n",
       " 'IntelGraphicsProfiles',\n",
       " 'K-Means Clustering.ipynb',\n",
       " 'KNN.ipynb',\n",
       " 'Links',\n",
       " 'Local Settings',\n",
       " 'MicrosoftEdgeBackups',\n",
       " 'miktex-console.lock',\n",
       " 'Multivariate Analysis.ipynb',\n",
       " 'Music',\n",
       " 'My Documents',\n",
       " 'Natural Language Processing Chp 1,2.ipynb',\n",
       " 'Natural Language Processing Chp3.ipynb',\n",
       " 'NetHood',\n",
       " 'NTUSER.DAT',\n",
       " 'ntuser.dat.LOG1',\n",
       " 'ntuser.dat.LOG2',\n",
       " 'NTUSER.DAT{3bd68553-6bc1-11ed-a7c1-a928fad0adb3}.TxR.0.regtrans-ms',\n",
       " 'NTUSER.DAT{3bd68553-6bc1-11ed-a7c1-a928fad0adb3}.TxR.1.regtrans-ms',\n",
       " 'NTUSER.DAT{3bd68553-6bc1-11ed-a7c1-a928fad0adb3}.TxR.2.regtrans-ms',\n",
       " 'NTUSER.DAT{3bd68553-6bc1-11ed-a7c1-a928fad0adb3}.TxR.blf',\n",
       " 'NTUSER.DAT{3bd68554-6bc1-11ed-a7c1-a928fad0adb3}.TM.blf',\n",
       " 'NTUSER.DAT{3bd68554-6bc1-11ed-a7c1-a928fad0adb3}.TMContainer00000000000000000001.regtrans-ms',\n",
       " 'NTUSER.DAT{3bd68554-6bc1-11ed-a7c1-a928fad0adb3}.TMContainer00000000000000000002.regtrans-ms',\n",
       " 'ntuser.ini',\n",
       " 'OneDrive',\n",
       " 'Pictures',\n",
       " 'PrintHood',\n",
       " 'Python Chapter 2 - US Baby Names Data.ipynb',\n",
       " 'Python Chapter 2- Movie Lens Data.ipynb',\n",
       " 'Python Chapter 2- US Gov Data.ipynb',\n",
       " 'Python Chapter 4 - Numpy.ipynb',\n",
       " 'Random Forest.ipynb',\n",
       " 'Recent',\n",
       " 'Saved Games',\n",
       " 'Searches',\n",
       " 'SendTo',\n",
       " 'source',\n",
       " 'Start Menu',\n",
       " 'summary stats.csv',\n",
       " 'summary stats.tex',\n",
       " 'Survival Analysis.ipynb',\n",
       " 'Templates',\n",
       " 'Train and Test.ipynb',\n",
       " 'Videos',\n",
       " 'VirtualBox VMs',\n",
       " 'Water data munging for SAS.ipynb']"
      ]
     },
     "execution_count": 35,
     "metadata": {},
     "output_type": "execute_result"
    }
   ],
   "source": [
    "# list of files in your current directory\n",
    "import os\n",
    "os.listdir('.')"
   ]
  },
  {
   "cell_type": "code",
   "execution_count": 39,
   "id": "72019188-febe-465a-af1f-c9d308f5a155",
   "metadata": {},
   "outputs": [
    {
     "ename": "ValueError",
     "evalue": "invalid mode: 'rU'",
     "output_type": "error",
     "traceback": [
      "\u001b[1;31m---------------------------------------------------------------------------\u001b[0m",
      "\u001b[1;31mValueError\u001b[0m                                Traceback (most recent call last)",
      "Cell \u001b[1;32mIn[39], line 1\u001b[0m\n\u001b[1;32m----> 1\u001b[0m f \u001b[38;5;241m=\u001b[39m \u001b[38;5;28mopen\u001b[39m(\u001b[38;5;124m'\u001b[39m\u001b[38;5;124mchp2myowncorpus.txt\u001b[39m\u001b[38;5;124m'\u001b[39m, \u001b[38;5;124m'\u001b[39m\u001b[38;5;124mrU\u001b[39m\u001b[38;5;124m'\u001b[39m)\n\u001b[0;32m      2\u001b[0m \u001b[38;5;28;01mfor\u001b[39;00m line \u001b[38;5;129;01min\u001b[39;00m f: \n\u001b[0;32m      3\u001b[0m     \u001b[38;5;28mprint\u001b[39m(line\u001b[38;5;241m.\u001b[39mstrip())\n",
      "File \u001b[1;32m~\\anaconda3\\Lib\\site-packages\\IPython\\core\\interactiveshell.py:324\u001b[0m, in \u001b[0;36m_modified_open\u001b[1;34m(file, *args, **kwargs)\u001b[0m\n\u001b[0;32m    317\u001b[0m \u001b[38;5;28;01mif\u001b[39;00m file \u001b[38;5;129;01min\u001b[39;00m {\u001b[38;5;241m0\u001b[39m, \u001b[38;5;241m1\u001b[39m, \u001b[38;5;241m2\u001b[39m}:\n\u001b[0;32m    318\u001b[0m     \u001b[38;5;28;01mraise\u001b[39;00m \u001b[38;5;167;01mValueError\u001b[39;00m(\n\u001b[0;32m    319\u001b[0m         \u001b[38;5;124mf\u001b[39m\u001b[38;5;124m\"\u001b[39m\u001b[38;5;124mIPython won\u001b[39m\u001b[38;5;124m'\u001b[39m\u001b[38;5;124mt let you open fd=\u001b[39m\u001b[38;5;132;01m{\u001b[39;00mfile\u001b[38;5;132;01m}\u001b[39;00m\u001b[38;5;124m by default \u001b[39m\u001b[38;5;124m\"\u001b[39m\n\u001b[0;32m    320\u001b[0m         \u001b[38;5;124m\"\u001b[39m\u001b[38;5;124mas it is likely to crash IPython. If you know what you are doing, \u001b[39m\u001b[38;5;124m\"\u001b[39m\n\u001b[0;32m    321\u001b[0m         \u001b[38;5;124m\"\u001b[39m\u001b[38;5;124myou can use builtins\u001b[39m\u001b[38;5;124m'\u001b[39m\u001b[38;5;124m open.\u001b[39m\u001b[38;5;124m\"\u001b[39m\n\u001b[0;32m    322\u001b[0m     )\n\u001b[1;32m--> 324\u001b[0m \u001b[38;5;28;01mreturn\u001b[39;00m io_open(file, \u001b[38;5;241m*\u001b[39margs, \u001b[38;5;241m*\u001b[39m\u001b[38;5;241m*\u001b[39mkwargs)\n",
      "\u001b[1;31mValueError\u001b[0m: invalid mode: 'rU'"
     ]
    }
   ],
   "source": [
    "f = open('chp2myowncorpus.txt', 'rU')\n",
    "for line in f: \n",
    "    print(line.strip())"
   ]
  },
  {
   "cell_type": "markdown",
   "id": "a0463e3d-f989-4647-8cea-c1027d04a478",
   "metadata": {},
   "source": [
    "##### ASCII text and HTML text are human-readable formats\n",
    "##### Text often comes in bianry formats - such as PDF AND MS Word\n",
    "##### pypdf pywin32 libraries provide access to these formats "
   ]
  },
  {
   "cell_type": "markdown",
   "id": "2560219a-c6d4-4a84-95d2-4deacef4c04d",
   "metadata": {},
   "source": [
    "##### Capturing User Input"
   ]
  },
  {
   "cell_type": "code",
   "execution_count": 50,
   "id": "0e5173a9-7915-4525-9ba6-a4abf5d90ee8",
   "metadata": {},
   "outputs": [
    {
     "name": "stdin",
     "output_type": "stream",
     "text": [
      "Enter some text:  i love to swim\n"
     ]
    },
    {
     "name": "stdout",
     "output_type": "stream",
     "text": [
      "You typed 4 words.\n"
     ]
    }
   ],
   "source": [
    "# prompt the user to type a line of input\n",
    "s = input(\"Enter some text: \") \n",
    "print(\"You typed\", len(nltk.word_tokenize(s)), 'words.')"
   ]
  },
  {
   "cell_type": "markdown",
   "id": "46d69287-71c2-4373-99a8-9b1f17d8b7f2",
   "metadata": {},
   "source": [
    "##### Basic Operations with Strings"
   ]
  },
  {
   "cell_type": "code",
   "execution_count": 46,
   "id": "76bc67ce-a415-46c2-bc2e-b4caec1b1772",
   "metadata": {},
   "outputs": [
    {
     "data": {
      "text/plain": [
       "\"Monty Python's Flying Circus\""
      ]
     },
     "execution_count": 46,
     "metadata": {},
     "output_type": "execute_result"
    }
   ],
   "source": [
    "# If a string contains a single quote, we must backslash-escape the quote\n",
    "circus = 'Monty Python\\'s Flying Circus'\n",
    "circus"
   ]
  },
  {
   "cell_type": "code",
   "execution_count": 52,
   "id": "0dc1db47-1b5b-4dfb-8d8d-cb45923a0226",
   "metadata": {},
   "outputs": [
    {
     "data": {
      "text/plain": [
       "\"Shall I compare thee to a Summer's day,Thou are more lovely and more temperate:\""
      ]
     },
     "execution_count": 52,
     "metadata": {},
     "output_type": "execute_result"
    }
   ],
   "source": [
    "# Sequence of two strings joined into a single string: We need to use backshalsh or parentheses \n",
    "couplet = \"Shall I compare thee to a Summer's day?\"\\\n",
    "\"Thou are more lovely and more temperate:\"\n",
    "couplet\n",
    "\n",
    "couplet = (\"Shall I compare thee to a Summer's day,\" \"Thou are more lovely and more temperate:\")\n",
    "couplet"
   ]
  },
  {
   "cell_type": "code",
   "execution_count": 64,
   "id": "4f09957e-a437-40dc-8f2a-919d2fb9c20b",
   "metadata": {},
   "outputs": [
    {
     "data": {
      "text/plain": [
       "\"Shall I compare thee to a Summer's day? Thou are more lovely and more temperate:\""
      ]
     },
     "execution_count": 64,
     "metadata": {},
     "output_type": "execute_result"
    }
   ],
   "source": [
    "# Triple-quote string to give newline between new lines\n",
    "couplet = \"\"\"Shall I compare thee to a Summer's day? Thou are more lovely and more temperate:\"\"\"\n",
    "couplet"
   ]
  },
  {
   "cell_type": "markdown",
   "id": "f2c550d5-7625-4819-b700-cc05cfc65d24",
   "metadata": {},
   "source": [
    "##### Strings are IMMUTABLE, whereas lists are MUTABLE"
   ]
  },
  {
   "cell_type": "code",
   "execution_count": null,
   "id": "8f82f027-52d9-4afb-9744-6bda20cdba98",
   "metadata": {},
   "outputs": [],
   "source": []
  },
  {
   "cell_type": "markdown",
   "id": "214ffdd0-f476-43e2-91f5-aa5f947fb9db",
   "metadata": {},
   "source": [
    "#### 3.3 Text Processing with Unicode"
   ]
  },
  {
   "cell_type": "code",
   "execution_count": null,
   "id": "7d0c5d9a-4900-41b9-b98b-fdd37ab3d9d1",
   "metadata": {},
   "outputs": [],
   "source": []
  },
  {
   "cell_type": "code",
   "execution_count": null,
   "id": "60397795-4743-4cbf-bfb1-1e2277299dab",
   "metadata": {},
   "outputs": [],
   "source": []
  },
  {
   "cell_type": "code",
   "execution_count": null,
   "id": "e1e6ec46-cc74-4c5a-a044-1e317405f976",
   "metadata": {},
   "outputs": [],
   "source": []
  }
 ],
 "metadata": {
  "kernelspec": {
   "display_name": "Python 3 (ipykernel)",
   "language": "python",
   "name": "python3"
  },
  "language_info": {
   "codemirror_mode": {
    "name": "ipython",
    "version": 3
   },
   "file_extension": ".py",
   "mimetype": "text/x-python",
   "name": "python",
   "nbconvert_exporter": "python",
   "pygments_lexer": "ipython3",
   "version": "3.12.4"
  }
 },
 "nbformat": 4,
 "nbformat_minor": 5
}
