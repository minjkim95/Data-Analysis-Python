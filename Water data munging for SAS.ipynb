{
 "cells": [
  {
   "cell_type": "code",
   "execution_count": 23,
   "id": "01ed1f6c-ec9d-418a-a2cc-02e7fc12b3ec",
   "metadata": {},
   "outputs": [
    {
     "data": {
      "text/plain": [
       "['location, town, mortality, hardness, 1,',\n",
       " 'South, Bath, 1247, 105, 2,',\n",
       " 'North, Birkenhead, 1668, 17, 3,',\n",
       " 'South, Birmingham, 1466, 5,4,',\n",
       " 'North, Blackburn, 1800, 14, 5,',\n",
       " 'North, Blackpool, 1609, 18, 6,',\n",
       " 'North, Bolton, 1558, 10, 7,',\n",
       " 'North, Bootle, 1807, 15, 8,',\n",
       " 'South, Bournemouth, 1299, 78, 9,',\n",
       " 'North, Bradford, 1637, 10, 10,',\n",
       " 'South, Brighton, 1359, 84, 11,',\n",
       " 'South, Bristol, 1392, 73, 12,',\n",
       " 'North, Burnley, 1755, 12, 13,',\n",
       " 'South, Cardiff, 1519, 21, 14,',\n",
       " 'South, Coventry, 1307, 78, 15,',\n",
       " 'South, Croydon, 1254, 96, 16,',\n",
       " 'North, Darlington, 1491, 20, 17,',\n",
       " 'North, Derby, 1555, 39, 18,',\n",
       " 'North, Doncaster, 1428, 39, 19,',\n",
       " 'South, East Ham, 1318, 122, 20,',\n",
       " 'South, Exeter, 1260, 21, 21,',\n",
       " 'North, Gateshead, 1723, 44, 22,',\n",
       " 'North, Grimsby, 1379, 94, 23,',\n",
       " 'North, Halifax, 1742, 8, 24,',\n",
       " 'North, Huddersfield, 1574, 9, 25,',\n",
       " 'North, Hull, 1569, 91, 26,',\n",
       " 'South, Ipswich, 1096, 138, 27,',\n",
       " 'North, Leeds, 1591, 16, 28,',\n",
       " 'South, Leicester, 1402, 37, 29,',\n",
       " 'North, Liverpool, 1772, 15, 30,',\n",
       " 'North, Manchester, 1828, 8, 31,',\n",
       " 'North, Middlesbrough, 1704, 26, 32,',\n",
       " 'North, Newcastle, 1702, 44, 33,',\n",
       " 'South, Newport, 1581, 14, 34,',\n",
       " 'South, Northampton, 1309, 59, 35,',\n",
       " 'South, Norwich, 1259, 133, 36,',\n",
       " 'North, Nottingham, 1427, 27, 37,',\n",
       " 'North, Oldham, 1724, 6, 38,',\n",
       " 'South, Oxford, 1175, 107, 39,',\n",
       " 'South, Plymouth, 1486, 5, 40,',\n",
       " 'South, Portsmouth, 1456, 90, 41,',\n",
       " 'North, Preston, 1696, 6, 42,',\n",
       " 'South, Reading, 1236, 101, 43,',\n",
       " 'North, Rochdale, 1711, 13, 44,',\n",
       " 'North, Rotherham, 1444, 14, 45,',\n",
       " 'North, St Helens, 1591, 49, 46,',\n",
       " 'North, Salford, 1987, 8, 47,',\n",
       " 'North, Sheffield, 1495, 14, 48,',\n",
       " 'South, Southampton, 1369, 68, 49,',\n",
       " 'South, Southend, 1257, 50, 50,',\n",
       " 'North, Southport, 1587, 75, 51,',\n",
       " 'North, South Shields, 1713, 71, 52,',\n",
       " 'North, Stockport, 1557, 13, 53,',\n",
       " 'North, Stoke, 1640, 57, 54,',\n",
       " 'North, Sunderland, 1709, 71, 55,',\n",
       " 'South, Swansea, 1625, 13, 56,',\n",
       " 'North, Wallasey, 1625, 20, 57,',\n",
       " 'South, Walsall, 1527, 60, 58,',\n",
       " 'South, West Bromwich, 1627, 53, 59,',\n",
       " 'South, West Ham, 1486, 122, 60,',\n",
       " 'South, Wolverhampton, 1485, 81, 61,',\n",
       " 'North, York, 1378, 71']"
      ]
     },
     "execution_count": 23,
     "metadata": {},
     "output_type": "execute_result"
    }
   ],
   "source": [
    "import numpy as np\n",
    "import pandas as pd\n",
    "\n",
    "# Program to read the entire file (absolute path) using read() function\n",
    "water = open(\"C:/Users/minjk/OneDrive/Desktop/Study Books/SAS/water.txt\")\n",
    "content = water.read()\n",
    "content\n",
    "content.split(\"\\n\")"
   ]
  },
  {
   "cell_type": "code",
   "execution_count": 55,
   "id": "11b67cc7-c346-4fde-b079-04124ad0d4f3",
   "metadata": {},
   "outputs": [],
   "source": [
    "water = pd.read_csv(\"C:/Users/minjk/OneDrive/Desktop/Study Books/SAS/water.csv\")\n",
    "water = pd.DataFrame(water)\n",
    "water = water.drop(water.columns[[4,5]],axis = 1)\n",
    "water.columns  = [\"location\", \"town\", \"mortality\", \"hardness\"]\n",
    "water.to_csv(\"C:/Users/minjk/OneDrive/Desktop/Study Books/SAS/water.csv\", sep = ',')"
   ]
  }
 ],
 "metadata": {
  "kernelspec": {
   "display_name": "Python 3 (ipykernel)",
   "language": "python",
   "name": "python3"
  },
  "language_info": {
   "codemirror_mode": {
    "name": "ipython",
    "version": 3
   },
   "file_extension": ".py",
   "mimetype": "text/x-python",
   "name": "python",
   "nbconvert_exporter": "python",
   "pygments_lexer": "ipython3",
   "version": "3.12.4"
  }
 },
 "nbformat": 4,
 "nbformat_minor": 5
}
