{
 "cells": [
  {
   "cell_type": "markdown",
   "id": "157ddf40-e595-4981-a411-c637255df456",
   "metadata": {},
   "source": [
    "#### This notebook is for the Natural Language Processing with Python "
   ]
  },
  {
   "cell_type": "markdown",
   "id": "9a3871d1-eacb-4b6b-964f-882801a51585",
   "metadata": {},
   "source": [
    "##### 1.1 Computing with Language: Texts and Words"
   ]
  },
  {
   "cell_type": "code",
   "execution_count": 1,
   "id": "b3f7fa0d-84ff-4092-9656-d17a40e3c70a",
   "metadata": {},
   "outputs": [],
   "source": [
    "import nltk"
   ]
  },
  {
   "cell_type": "code",
   "execution_count": 3,
   "id": "05151e73-3d05-40c0-801c-bf4e27565588",
   "metadata": {},
   "outputs": [
    {
     "name": "stdout",
     "output_type": "stream",
     "text": [
      "showing info https://raw.githubusercontent.com/nltk/nltk_data/gh-pages/index.xml\n"
     ]
    },
    {
     "data": {
      "text/plain": [
       "True"
      ]
     },
     "execution_count": 3,
     "metadata": {},
     "output_type": "execute_result"
    }
   ],
   "source": [
    "#nltk.download() "
   ]
  },
  {
   "cell_type": "code",
   "execution_count": 3,
   "id": "a416163c-2df8-4d0c-803b-ec43f473d83b",
   "metadata": {},
   "outputs": [
    {
     "name": "stdout",
     "output_type": "stream",
     "text": [
      "*** Introductory Examples for the NLTK Book ***\n",
      "Loading text1, ..., text9 and sent1, ..., sent9\n",
      "Type the name of the text or sentence to view it.\n",
      "Type: 'texts()' or 'sents()' to list the materials.\n",
      "text1: Moby Dick by Herman Melville 1851\n",
      "text2: Sense and Sensibility by Jane Austen 1811\n",
      "text3: The Book of Genesis\n",
      "text4: Inaugural Address Corpus\n",
      "text5: Chat Corpus\n",
      "text6: Monty Python and the Holy Grail\n",
      "text7: Wall Street Journal\n",
      "text8: Personals Corpus\n",
      "text9: The Man Who Was Thursday by G . K . Chesterton 1908\n"
     ]
    }
   ],
   "source": [
    "from nltk.book import * # Introductory Examples for the NLTK book"
   ]
  },
  {
   "cell_type": "code",
   "execution_count": 27,
   "id": "c67ba7a9-51a9-4a05-a603-7420f9b1b63e",
   "metadata": {},
   "outputs": [
    {
     "name": "stdout",
     "output_type": "stream",
     "text": [
      "<Text: Moby Dick by Herman Melville 1851>\n"
     ]
    }
   ],
   "source": [
    "text1\n",
    "#type(text1) "
   ]
  },
  {
   "cell_type": "code",
   "execution_count": 5,
   "id": "e10ef42a-75de-4f5c-b518-f48da42e8c0f",
   "metadata": {},
   "outputs": [],
   "source": [
    "from nltk.tokenize import sent_tokenize, word_tokenize\n",
    "# Tokenize the sentence \n",
    "sentence = \"\"\"At eight o'clock on Thursday morning Arthur didn't feel very good.\"\"\"\n",
    "tokens = nltk.word_tokenize(sentence)"
   ]
  },
  {
   "cell_type": "code",
   "execution_count": 11,
   "id": "64e722a3-add0-4608-8bd4-9257127deadc",
   "metadata": {},
   "outputs": [
    {
     "data": {
      "text/plain": [
       "\"At eight o'clock on Thursday morning Arthur didn't feel very good.\""
      ]
     },
     "execution_count": 11,
     "metadata": {},
     "output_type": "execute_result"
    }
   ],
   "source": [
    "sentence"
   ]
  },
  {
   "cell_type": "code",
   "execution_count": 13,
   "id": "c7cbedb6-737b-4668-8b39-f8f9604aa13a",
   "metadata": {},
   "outputs": [
    {
     "data": {
      "text/plain": [
       "['At',\n",
       " 'eight',\n",
       " \"o'clock\",\n",
       " 'on',\n",
       " 'Thursday',\n",
       " 'morning',\n",
       " 'Arthur',\n",
       " 'did',\n",
       " \"n't\",\n",
       " 'feel',\n",
       " 'very',\n",
       " 'good',\n",
       " '.']"
      ]
     },
     "execution_count": 13,
     "metadata": {},
     "output_type": "execute_result"
    }
   ],
   "source": [
    "tokens"
   ]
  },
  {
   "cell_type": "markdown",
   "id": "ef4dd501-3128-4558-8ad3-ebc53cde15f0",
   "metadata": {},
   "source": [
    "#### Searching Text 12/9/24"
   ]
  },
  {
   "cell_type": "code",
   "execution_count": 29,
   "id": "adf20413-0e2a-4aba-9d3f-4732f02994dd",
   "metadata": {},
   "outputs": [
    {
     "name": "stdout",
     "output_type": "stream",
     "text": [
      "Displaying 11 of 11 matches:\n",
      "ong the former , one was of a most monstrous size . ... This came towards us , \n",
      "ON OF THE PSALMS . \" Touching that monstrous bulk of the whale or ork we have r\n",
      "ll over with a heathenish array of monstrous clubs and spears . Some were thick\n",
      "d as you gazed , and wondered what monstrous cannibal and savage could ever hav\n",
      "that has survived the flood ; most monstrous and most mountainous ! That Himmal\n",
      "they might scout at Moby Dick as a monstrous fable , or still worse and more de\n",
      "th of Radney .'\" CHAPTER 55 Of the Monstrous Pictures of Whales . I shall ere l\n",
      "ing Scenes . In connexion with the monstrous pictures of whales , I am strongly\n",
      "ere to enter upon those still more monstrous stories of them which are to be fo\n",
      "ght have been rummaged out of this monstrous cabinet there is no telling . But \n",
      "of Whale - Bones ; for Whales of a monstrous size are oftentimes cast up dead u\n"
     ]
    }
   ],
   "source": [
    "# Searching Text\n",
    "\n",
    "# A concordance view shows us every occurrence of a given word, together with some context\n",
    "\n",
    "# Look up the word \"monstrous\" in Moby Dick\n",
    "# text1.concordance(\"monstrous\") "
   ]
  },
  {
   "cell_type": "code",
   "execution_count": 31,
   "id": "d21bd301-26b7-4054-8964-a38b6740c336",
   "metadata": {},
   "outputs": [
    {
     "name": "stdout",
     "output_type": "stream",
     "text": [
      "Displaying 25 of 79 matches:\n",
      ", however , and , as a mark of his affection for the three girls , he left them\n",
      "t . It was very well known that no affection was ever supposed to exist between\n",
      "deration of politeness or maternal affection on the side of the former , the tw\n",
      "d the suspicion -- the hope of his affection for me may warrant , without impru\n",
      "hich forbade the indulgence of his affection . She knew that his mother neither\n",
      "rd she gave one with still greater affection . Though her late conversation wit\n",
      " can never hope to feel or inspire affection again , and if her home be uncomfo\n",
      "m of the sense , elegance , mutual affection , and domestic comfort of the fami\n",
      ", and which recommended him to her affection beyond every thing else . His soci\n",
      "ween the parties might forward the affection of Mr . Willoughby , an equally st\n",
      " the most pointed assurance of her affection . Elinor could not be surprised at\n",
      "he natural consequence of a strong affection in a young and ardent mind . This \n",
      " opinion . But by an appeal to her affection for her mother , by representing t\n",
      " every alteration of a place which affection had established as perfect with hi\n",
      "e will always have one claim of my affection , which no other can possibly shar\n",
      "f the evening declared at once his affection and happiness . \" Shall we see you\n",
      "ause he took leave of us with less affection than his usual behaviour has shewn\n",
      "ness .\" \" I want no proof of their affection ,\" said Elinor ; \" but of their en\n",
      "onths , without telling her of his affection ;-- that they should part without \n",
      "ould be the natural result of your affection for her . She used to be all unres\n",
      "distinguished Elinor by no mark of affection . Marianne saw and listened with i\n",
      "th no inclination for expense , no affection for strangers , no profession , an\n",
      "till distinguished her by the same affection which once she had felt no doubt o\n",
      "al of her confidence in Edward ' s affection , to the remembrance of every mark\n",
      " was made ? Had he never owned his affection to yourself ?\" \" Oh , no ; but if \n"
     ]
    }
   ],
   "source": [
    "# Look up the word \"affection\" in Sense and Sensibility\n",
    "# text2.concordance(\"affection\")"
   ]
  },
  {
   "cell_type": "code",
   "execution_count": 45,
   "id": "4d3c94f0-2e01-40df-9e6e-95c81ae0e96d",
   "metadata": {},
   "outputs": [
    {
     "name": "stdout",
     "output_type": "stream",
     "text": [
      "Displaying 16 of 16 matches:\n",
      "years , and begat Enos : And Seth lived after he begat Enos eight hundred and s\n",
      "ars , and begat Cainan : And Enos lived after he begat Cainan eight hundred and\n",
      "and begat Mahalaleel : And Cainan lived after he begat Mahalaleel eight hundred\n",
      " and begat Jared : And Mahalaleel lived after he begat Jared eight hundred and \n",
      "ears , and he begat Eno And Jared lived after he begat Enoch eight hundred year\n",
      "and begat Lamech . And Methuselah lived after he begat Lamech seven hundred eig\n",
      "the LORD hath cursed . And Lamech lived after he begat Noah five hundred ninety\n",
      "n shall be his servant . And Noah lived after the flood three hundred and fifty\n",
      " two years after the flo And Shem lived after he begat Arphaxad five hundred ye\n",
      " , and begat Salah : And Arphaxad lived after he begat Salah four hundred and t\n",
      "ears , and begat Eber : And Salah lived after he begat Eber four hundred and th\n",
      "ears , and begat Peleg : And Eber lived after he begat Peleg four hundred and t\n",
      "years , and begat Reu : And Peleg lived after he begat Reu two hundred and nine\n",
      "years , and begat Serug : And Reu lived after he begat Serug two hundred and se\n",
      "ars , and begat Nahor : And Serug lived after he begat Nahor two hundred years \n",
      "ars , and begat Terah : And Nahor lived after he begat Terah an hundred and nin\n"
     ]
    }
   ],
   "source": [
    "# Look up the word \"lived\" in the book of Genesis \n",
    "# text3.concordance([\"lived\", \"after\"])"
   ]
  },
  {
   "cell_type": "code",
   "execution_count": 43,
   "id": "d98b49a1-5032-4175-a304-173b20ae72e2",
   "metadata": {},
   "outputs": [
    {
     "name": "stdout",
     "output_type": "stream",
     "text": [
      "Displaying 25 of 330 matches:\n",
      " to the character of an independent nation seems to have been distinguished by\n",
      "f Heaven can never be expected on a nation that disregards the eternal rules o\n",
      "first , the representatives of this nation , then consisting of little more th\n",
      ", situation , and relations of this nation and country than any which had ever\n",
      ", prosperity , and happiness of the nation I have acquired an habitual attachm\n",
      "an be no spectacle presented by any nation more pleasing , more noble , majest\n",
      "party for its own ends , not of the nation for the national good . If that sol\n",
      "tures and the people throughout the nation . On this subject it might become m\n",
      "if a personal esteem for the French nation , formed in a residence of seven ye\n",
      "f our fellow - citizens by whatever nation , and if success can not be obtaine\n",
      "y , continue His blessing upon this nation and its Government and give it all \n",
      "powers so justly inspire . A rising nation , spread over a wide and fruitful l\n",
      "ing now decided by the voice of the nation , announced according to the rules \n",
      "ars witness to the fact that a just nation is trusted on its word when recours\n",
      "e union of opinion which gives to a nation the blessing of harmony and the ben\n",
      "uil suffrage of a free and virtuous nation , would under any circumstances hav\n",
      "d spirit and united councils of the nation will be safeguards to its honor and\n",
      "iction that the war with a powerful nation , which forms so prominent a featur\n",
      "out breaking down the spirit of the nation , destroying all confidence in itse\n",
      "ed on the military resources of the nation . These resources are amply suffici\n",
      "the war to an honorable issue . Our nation is in number more than half that of\n",
      "ndividually have been happy and the nation prosperous . Under this Constitutio\n",
      "rights , and is able to protect the nation against injustice from foreign powe\n",
      " great agricultural interest of the nation prospers under its protection . Loc\n",
      "ak our Union , and demolish us as a nation . Our distance from Europe and the \n"
     ]
    }
   ],
   "source": [
    "# look up the word \"nation\" \n",
    "text4.concordance([\"nation\"])"
   ]
  },
  {
   "cell_type": "code",
   "execution_count": 47,
   "id": "492fee4b-12da-49d7-8c79-deef37be5555",
   "metadata": {},
   "outputs": [
    {
     "name": "stdout",
     "output_type": "stream",
     "text": [
      "true contemptible christian abundant few part mean careful puzzled\n",
      "mystifying passing curious loving wise doleful gamesome singular\n",
      "delightfully perilous fearless\n"
     ]
    }
   ],
   "source": [
    "# What other words appear in a similar range of contexts?\n",
    "text1.similar(\"monstrous\")"
   ]
  },
  {
   "cell_type": "code",
   "execution_count": 49,
   "id": "35f911cf-3175-4bd8-b1c8-d66c5e81efc5",
   "metadata": {},
   "outputs": [
    {
     "name": "stdout",
     "output_type": "stream",
     "text": [
      "am_glad a_pretty a_lucky is_pretty be_glad\n"
     ]
    }
   ],
   "source": [
    "# common_contexts to examine jus the contexts that are shared by two or more words\n",
    "text2.common_contexts([\"monstrous\", \"very\"])"
   ]
  },
  {
   "cell_type": "code",
   "execution_count": 53,
   "id": "af2e81f1-36c6-46a6-8b15-c1f40a2aa108",
   "metadata": {},
   "outputs": [
    {
     "data": {
      "image/png": "[encoded data removed]",
      "text/plain": [
       "<Figure size 640x480 with 1 Axes>"
      ]
     },
     "metadata": {},
     "output_type": "display_data"
    }
   ],
   "source": [
    "# Lexical Dispersion Plot for words in U.S Presidential Inargural Address\n",
    "# This can be used to investigate changes in language use over time.\n",
    "# We can determine the location of a word in the text: how many words from the beginning it appears\n",
    "\n",
    "text4.dispersion_plot([\"citizens\", \"democracy\", \"freedom\", \"duties\", \"America\"])"
   ]
  },
  {
   "cell_type": "code",
   "execution_count": 55,
   "id": "5cf5969a-dff4-4ef5-a32d-65de08e5f475",
   "metadata": {},
   "outputs": [
    {
     "name": "stderr",
     "output_type": "stream",
     "text": [
      "Building ngram index...\n"
     ]
    },
    {
     "name": "stdout",
     "output_type": "stream",
     "text": [
      "laid by her , and said unto Cain , Where art thou , and said , Go to ,\n",
      "I will not do it for ten ' s sons ; we dreamed each man according to\n",
      "their generatio the firstborn said unto Laban , Because I said , Nay ,\n",
      "but Sarah shall her name be . , duke Elah , duke Shobal , and Akan .\n",
      "and looked upon my affliction . Bashemath Ishmael ' s blood , but Isra\n",
      "for as a prince hast thou found of all the cattle in the valley , and\n",
      "the wo The\n"
     ]
    },
    {
     "data": {
      "text/plain": [
       "\"laid by her , and said unto Cain , Where art thou , and said , Go to ,\\nI will not do it for ten ' s sons ; we dreamed each man according to\\ntheir generatio the firstborn said unto Laban , Because I said , Nay ,\\nbut Sarah shall her name be . , duke Elah , duke Shobal , and Akan .\\nand looked upon my affliction . Bashemath Ishmael ' s blood , but Isra\\nfor as a prince hast thou found of all the cattle in the valley , and\\nthe wo The\""
      ]
     },
     "execution_count": 55,
     "metadata": {},
     "output_type": "execute_result"
    }
   ],
   "source": [
    "# Generating random text; slow because it gathers statistics about word sequences, and it reuses common words and phrases from original text\n",
    "text3.generate()"
   ]
  },
  {
   "cell_type": "markdown",
   "id": "8f321ea1-f673-4e42-8812-2850816252e0",
   "metadata": {},
   "source": [
    "#### Counting Vocabulary"
   ]
  },
  {
   "cell_type": "code",
   "execution_count": 60,
   "id": "15c7dcb2-3880-4a03-8c1a-1bed3053e509",
   "metadata": {},
   "outputs": [
    {
     "data": {
      "text/plain": [
       "44764"
      ]
     },
     "execution_count": 60,
     "metadata": {},
     "output_type": "execute_result"
    }
   ],
   "source": [
    "# count the vocabs of Genesis in terms of the words and punctuation symbols (number of tokens)\n",
    "len(text3)"
   ]
  },
  {
   "cell_type": "code",
   "execution_count": 13,
   "id": "4f9a962a-81ca-4d26-8254-17e4511ef1f1",
   "metadata": {},
   "outputs": [
    {
     "ename": "NameError",
     "evalue": "name 'text3' is not defined",
     "output_type": "error",
     "traceback": [
      "\u001b[1;31m---------------------------------------------------------------------------\u001b[0m",
      "\u001b[1;31mNameError\u001b[0m                                 Traceback (most recent call last)",
      "Cell \u001b[1;32mIn[13], line 2\u001b[0m\n\u001b[0;32m      1\u001b[0m \u001b[38;5;66;03m# Obtain the vocabulary items of Genesis \u001b[39;00m\n\u001b[1;32m----> 2\u001b[0m \u001b[38;5;28mset\u001b[39m(text3)\n",
      "\u001b[1;31mNameError\u001b[0m: name 'text3' is not defined"
     ]
    }
   ],
   "source": [
    "# Obtain the vocabulary items of Genesis \n",
    "set(text3)\n",
    "# sorted list of vocabulary items, beginning with various punctuation symbols and continuing with words alphabetically\n",
    "#sorted(set(text3))"
   ]
  },
  {
   "cell_type": "code",
   "execution_count": null,
   "id": "7d011ed7-5e89-4db9-a03e-10f054b61334",
   "metadata": {},
   "outputs": [],
   "source": [
    "# Number of distinct words = word type = unique item of vocabulary including punctuation symbols\n",
    "len(set(text3)) "
   ]
  },
  {
   "cell_type": "code",
   "execution_count": 11,
   "id": "61122028-b17a-4585-8ace-a8781b5a807b",
   "metadata": {},
   "outputs": [
    {
     "data": {
      "text/plain": [
       "16.050197203298673"
      ]
     },
     "execution_count": 11,
     "metadata": {},
     "output_type": "execute_result"
    }
   ],
   "source": [
    "# Number of times that each word is used on average\n",
    "len(text3)/len(set(text3))"
   ]
  },
  {
   "cell_type": "code",
   "execution_count": 13,
   "id": "ea9d1879-4c6c-4a60-a43e-84b9a4d7e754",
   "metadata": {},
   "outputs": [
    {
     "data": {
      "text/plain": [
       "5"
      ]
     },
     "execution_count": 13,
     "metadata": {},
     "output_type": "execute_result"
    }
   ],
   "source": [
    "text3.count(\"smote\")"
   ]
  },
  {
   "cell_type": "code",
   "execution_count": 17,
   "id": "a428c06a-5007-45f8-a61c-70eb7858c27b",
   "metadata": {},
   "outputs": [
    {
     "data": {
      "text/plain": [
       "1.457806031353621"
      ]
     },
     "execution_count": 17,
     "metadata": {},
     "output_type": "execute_result"
    }
   ],
   "source": [
    "100 * text4.count('a')/ len(text4)"
   ]
  },
  {
   "cell_type": "code",
   "execution_count": 9,
   "id": "f8d7f5ac-5bea-40cd-865e-a27278f803bc",
   "metadata": {},
   "outputs": [],
   "source": [
    "# Function to perform lexical diversity and percentage of word occurence calcualtion\n",
    "def lexical_diversity(text):\n",
    "    return len(text)/ len(set(text))\n",
    "\n",
    "def percentage(count, total):\n",
    "    return 100* count/total"
   ]
  },
  {
   "cell_type": "code",
   "execution_count": 15,
   "id": "84f3c5a2-1052-40a6-94db-8a575d367ee4",
   "metadata": {},
   "outputs": [
    {
     "data": {
      "text/plain": [
       "20.719449729255086"
      ]
     },
     "execution_count": 15,
     "metadata": {},
     "output_type": "execute_result"
    }
   ],
   "source": [
    "##### 1.2 Texts as Lists of Words\n",
    "sent2 \n",
    "len(sent2)\n",
    "lexical_diversity(text2) "
   ]
  },
  {
   "cell_type": "code",
   "execution_count": 21,
   "id": "16905a44-2fd1-4570-a54b-8a1626d6209e",
   "metadata": {},
   "outputs": [
    {
     "data": {
      "text/plain": [
       "11"
      ]
     },
     "execution_count": 21,
     "metadata": {},
     "output_type": "execute_result"
    }
   ],
   "source": [
    "sorted(sent2)\n",
    "len(set(sent2)) # 11 distinct words including punctuation symbols"
   ]
  },
  {
   "cell_type": "code",
   "execution_count": 23,
   "id": "0ec3de3e-992e-45f4-8d4b-e9bb4087e237",
   "metadata": {},
   "outputs": [
    {
     "data": {
      "text/plain": [
       "['The',\n",
       " 'family',\n",
       " 'of',\n",
       " 'Dashwood',\n",
       " 'had',\n",
       " 'long',\n",
       " 'been',\n",
       " 'settled',\n",
       " 'in',\n",
       " 'Sussex',\n",
       " '.',\n",
       " 'In',\n",
       " 'the',\n",
       " 'beginning',\n",
       " 'God',\n",
       " 'created',\n",
       " 'the',\n",
       " 'heaven',\n",
       " 'and',\n",
       " 'the',\n",
       " 'earth',\n",
       " '.']"
      ]
     },
     "execution_count": 23,
     "metadata": {},
     "output_type": "execute_result"
    }
   ],
   "source": [
    "# List concatenation\n",
    "sent2 + sent3 "
   ]
  },
  {
   "cell_type": "code",
   "execution_count": 29,
   "id": "ba0b5f73-ad48-42ba-819a-0fc94f9b68ea",
   "metadata": {},
   "outputs": [
    {
     "data": {
      "text/plain": [
       "['I', 'will', 'visit', 'Davis', 'in', 'December', '.', '!']"
      ]
     },
     "execution_count": 29,
     "metadata": {},
     "output_type": "execute_result"
    }
   ],
   "source": [
    "# List appending: add  a single item to a list\n",
    "sent1 = [\"I\", \"will\", \"visit\", \"Davis\", \"in\", \"December\", \".\"]\n",
    "sent1.append(\"!\")\n",
    "sent1"
   ]
  },
  {
   "cell_type": "code",
   "execution_count": 31,
   "id": "b49c812e-c8ad-416b-8969-dd462364db6d",
   "metadata": {},
   "outputs": [
    {
     "data": {
      "text/plain": [
       "'I'"
      ]
     },
     "execution_count": 31,
     "metadata": {},
     "output_type": "execute_result"
    }
   ],
   "source": [
    "# List indexing \n",
    "sent1[0]"
   ]
  },
  {
   "cell_type": "markdown",
   "id": "6d73826e-174d-4c9e-8851-64fe4477906e",
   "metadata": {},
   "source": [
    "##### 1.3 Simple Statistics"
   ]
  },
  {
   "cell_type": "code",
   "execution_count": 19,
   "id": "55d87350-93cb-4869-8619-0c17d372faa0",
   "metadata": {},
   "outputs": [
    {
     "data": {
      "text/plain": [
       "['said', 'than']"
      ]
     },
     "execution_count": 19,
     "metadata": {},
     "output_type": "execute_result"
    }
   ],
   "source": [
    "saying = ['After', 'all', 'is', 'said', 'and', 'done', 'more', 'is', 'said', 'than', 'done']\n",
    "tokens = set(saying)\n",
    "tokens = sorted(saying)\n",
    "tokens[-2:]"
   ]
  },
  {
   "cell_type": "code",
   "execution_count": 21,
   "id": "ea267455-7941-4bef-8aa0-93a876c4b61b",
   "metadata": {},
   "outputs": [
    {
     "data": {
      "text/plain": [
       "['[',\n",
       " 'Moby',\n",
       " 'Dick',\n",
       " 'by',\n",
       " 'Herman',\n",
       " 'Melville',\n",
       " '1851',\n",
       " ']',\n",
       " 'ETYMOLOGY',\n",
       " '.',\n",
       " '(',\n",
       " 'Supplied',\n",
       " 'a',\n",
       " 'Late',\n",
       " 'Consumptive',\n",
       " 'Usher',\n",
       " 'to',\n",
       " 'Grammar',\n",
       " 'School',\n",
       " ')',\n",
       " 'The',\n",
       " 'pale',\n",
       " '--',\n",
       " 'threadbare',\n",
       " 'in',\n",
       " 'coat',\n",
       " ',',\n",
       " 'heart',\n",
       " 'body',\n",
       " 'and',\n",
       " 'brain',\n",
       " ';',\n",
       " 'I',\n",
       " 'see',\n",
       " 'him',\n",
       " 'now',\n",
       " 'He',\n",
       " 'was',\n",
       " 'ever',\n",
       " 'dusting',\n",
       " 'his',\n",
       " 'old',\n",
       " 'lexicons',\n",
       " 'grammars',\n",
       " 'with',\n",
       " 'queer',\n",
       " 'handkerchief',\n",
       " 'mockingly',\n",
       " 'embellished',\n",
       " 'all']"
      ]
     },
     "execution_count": 21,
     "metadata": {},
     "output_type": "execute_result"
    }
   ],
   "source": [
    "# Frequency distribution\n",
    "# frequency of each vocabulary item in the text\n",
    "fdist1 = FreqDist(text1)\n",
    "fdist1 # total number of counted words(outcomes)\n",
    "vocabulary1 = fdist1.keys()  # list of all the distinct types in the text\n",
    "vocabulary1 = list(vocabulary1)\n",
    "vocabulary1[:50]"
   ]
  },
  {
   "cell_type": "code",
   "execution_count": 25,
   "id": "4a6f3c03-70eb-42cd-b595-ea65a66ee6e1",
   "metadata": {},
   "outputs": [
    {
     "data": {
      "image/png": "[encoded data removed]",
      "text/plain": [
       "<Figure size 640x480 with 1 Axes>"
      ]
     },
     "metadata": {},
     "output_type": "display_data"
    },
    {
     "data": {
      "text/plain": [
       "<Axes: xlabel='Samples', ylabel='Cumulative Counts'>"
      ]
     },
     "execution_count": 25,
     "metadata": {},
     "output_type": "execute_result"
    }
   ],
   "source": [
    "fdist1.plot(50, cumulative = True)"
   ]
  },
  {
   "cell_type": "code",
   "execution_count": 29,
   "id": "ec3a0781-6ee4-4b16-9a71-af4b2a57e5cf",
   "metadata": {},
   "outputs": [],
   "source": [
    "# words that occur once only\n",
    "#fdist1.hapaxes()"
   ]
  },
  {
   "cell_type": "code",
   "execution_count": 31,
   "id": "f556b1e9-ca62-4af3-8eaa-ced5c965461a",
   "metadata": {},
   "outputs": [
    {
     "name": "stdout",
     "output_type": "stream",
     "text": [
      "United States; fellow citizens; years ago; four years; Federal\n",
      "Government; General Government; American people; Vice President; God\n",
      "bless; Chief Justice; one another; fellow Americans; Old World;\n",
      "Almighty God; Fellow citizens; Chief Magistrate; every citizen; Indian\n",
      "tribes; public debt; foreign nations\n"
     ]
    }
   ],
   "source": [
    "# find bigrams (colllocations)\n",
    "text4.collocations()"
   ]
  },
  {
   "cell_type": "markdown",
   "id": "f7f6eb6d-7153-41ac-8496-381a383e688b",
   "metadata": {},
   "source": [
    "#### 1.4 Control: looping for conditional"
   ]
  },
  {
   "cell_type": "code",
   "execution_count": 36,
   "id": "73e85ec5-bb91-43d5-88ac-6bda858e1d01",
   "metadata": {},
   "outputs": [
    {
     "data": {
      "text/plain": [
       "[',', '61', 'old', ',', 'the', 'as', 'a', '29', '.']"
      ]
     },
     "execution_count": 36,
     "metadata": {},
     "output_type": "execute_result"
    }
   ],
   "source": [
    "sent7\n",
    "# select words in sent7 that have word lengths less than 4\n",
    "[w for w in sent7 if len(w) < 4]  # if condition"
   ]
  },
  {
   "cell_type": "code",
   "execution_count": 3,
   "id": "72df3936-1b9d-47f2-8fca-fbafc6caa937",
   "metadata": {},
   "outputs": [],
   "source": [
    "#[w.upper() for w in text1] # Do operation() for..."
   ]
  },
  {
   "cell_type": "code",
   "execution_count": 50,
   "id": "e197844f-3697-4ad8-990a-384f684445df",
   "metadata": {},
   "outputs": [
    {
     "name": "stdout",
     "output_type": "stream",
     "text": [
      "Call\n",
      "Ishmael\n"
     ]
    }
   ],
   "source": [
    "# looping with conditions\n",
    "sent1 = ['Call', 'me', 'Ishmael','.']\n",
    "for z in sent1:\n",
    "    if z.endswith('l'):\n",
    "        print(z)"
   ]
  },
  {
   "cell_type": "markdown",
   "id": "9e27db12-53bc-4fdb-8720-a3a766b6a7ff",
   "metadata": {},
   "source": [
    "#### Chapter 1. Exercises"
   ]
  },
  {
   "cell_type": "code",
   "execution_count": 8,
   "id": "ca2c1cae-e543-4f80-91b1-7e24d9331f03",
   "metadata": {},
   "outputs": [
    {
     "data": {
      "text/plain": [
       "141576"
      ]
     },
     "execution_count": 8,
     "metadata": {},
     "output_type": "execute_result"
    }
   ],
   "source": [
    "# 4. Number of words/distinct words in text2\n",
    "len(text2)"
   ]
  },
  {
   "cell_type": "code",
   "execution_count": 12,
   "id": "e4e0c773-cc6c-4231-a185-82391fa99a71",
   "metadata": {},
   "outputs": [
    {
     "data": {
      "text/plain": [
       "6833"
      ]
     },
     "execution_count": 12,
     "metadata": {},
     "output_type": "execute_result"
    }
   ],
   "source": [
    "len(set(text2))"
   ]
  },
  {
   "cell_type": "code",
   "execution_count": 24,
   "id": "853ebf3f-0a2e-49e6-8a6e-abdb87923c4b",
   "metadata": {},
   "outputs": [
    {
     "name": "stdout",
     "output_type": "stream",
     "text": [
      "Displaying 25 of 685 matches:\n",
      "avoid a breach with their brother . Elinor , this eldest daughter , whose advi\n",
      ", in many respects , quite equal to Elinor ' s . She was sensible and clever ;\n",
      "d her mother was strikingly great . Elinor saw , with concern , the excess of \n",
      "r admitting consolation in future . Elinor , too , was deeply afflicted ; but \n",
      "at he loved her daughter , and that Elinor returned the partiality . It was co\n",
      "semblance of disposition ; and that Elinor ' s merit should not be acknowledge\n",
      "him farther , by a reflection which Elinor chanced one day to make on the diff\n",
      "\" I think you will like him ,\" said Elinor , \" when you know more of him .\" \" \n",
      " ; the persuasion of his regard for Elinor perhaps assisted her penetration ; \n",
      "symptom of love in his behaviour to Elinor , than she considered their serious\n",
      " , my dear Marianne .\" said she , \" Elinor will , in all probability be settle\n",
      "attract him , and though he admires Elinor ' s drawings very much , it is not \n",
      "ust allow for difference of taste . Elinor has not my feelings , and therefore\n",
      " !\" CHAPTER 4 \" What a pity it is , Elinor ,\" said Marianne , \" that Edward sh\n",
      "\" \" No taste for drawing !\" replied Elinor , \" why should you think so ? He do\n",
      "; but the kind of approbation which Elinor described as excited in him by the \n",
      " . \" I hope , Marianne ,\" continued Elinor , \" you do not consider him as defi\n",
      "he replied : \" Do not be offended , Elinor , if my praise of him is not in eve\n",
      "d amiable .\" \" I am sure ,\" replied Elinor , with a smile , \" that his dearest\n",
      "sense and his goodness ,\" continued Elinor , \" no one can , I think , be in do\n",
      "hall very soon think him handsome , Elinor , if I do not now . When you tell m\n",
      "ace , than I now do in his heart .\" Elinor started at this declaration , and w\n",
      "eem him ! Like him ! Cold - hearted Elinor ! Oh ! worse than cold - hearted ! \n",
      " will leave the room this moment .\" Elinor could not help laughing . \" Excuse \n",
      "elf , how delightful it would be !\" Elinor had given her real opinion to her s\n"
     ]
    }
   ],
   "source": [
    "# 6. Dispersion plot of the four main protagonists in Sense and Sensibility: Elinor, Marianne, Edward, Willough\n",
    "text2.concordance(['Elinor'])"
   ]
  },
  {
   "cell_type": "code",
   "execution_count": 26,
   "id": "5a232bf4-25a0-415f-b739-8920831e19e3",
   "metadata": {},
   "outputs": [
    {
     "data": {
      "image/png": "[encoded data removed]",
      "text/plain": [
       "<Figure size 640x480 with 1 Axes>"
      ]
     },
     "metadata": {},
     "output_type": "display_data"
    }
   ],
   "source": [
    "text2.dispersion_plot(['Elinor', 'Marianne', 'Edward', 'Willoughby'])"
   ]
  },
  {
   "cell_type": "code",
   "execution_count": 28,
   "id": "a823fdde-ea2a-4d22-8dc4-d995cd1d9625",
   "metadata": {},
   "outputs": [
    {
     "name": "stdout",
     "output_type": "stream",
     "text": [
      "wanna chat; PART JOIN; MODE #14-19teens; JOIN PART; PART PART;\n",
      "cute.-ass MP3; MP3 player; JOIN JOIN; times .. .; ACTION watches; guys\n",
      "wanna; song lasts; last night; ACTION sits; -...)...- S.M.R.; Lime\n",
      "Player; Player 12%; dont know; lez gurls; long time\n"
     ]
    }
   ],
   "source": [
    "#7. Collocations(bigrams) in text5\n",
    "text5.collocations()"
   ]
  },
  {
   "cell_type": "code",
   "execution_count": 32,
   "id": "1ce4d761-1dad-4da8-a731-77f0a56783a2",
   "metadata": {},
   "outputs": [
    {
     "data": {
      "text/plain": [
       "10025"
      ]
     },
     "execution_count": 32,
     "metadata": {},
     "output_type": "execute_result"
    }
   ],
   "source": [
    "#8. Find the distinct words in the set of text 4\n",
    "set(text4) # obtain vocab items of text4 \n",
    "len(set(text4)) # compute the length"
   ]
  },
  {
   "cell_type": "code",
   "execution_count": 40,
   "id": "939ff267-9759-4fea-8c68-55c6a44fe3e3",
   "metadata": {},
   "outputs": [
    {
     "name": "stdout",
     "output_type": "stream",
     "text": [
      "['Call', 'me', 'Ishmael', '.']\n",
      "Ishmael\n",
      "h\n"
     ]
    }
   ],
   "source": [
    "#13.\n",
    "print(sent1)\n",
    "print(sent1[2])\n",
    "print(sent1[2][2]) # print the third charcter from the third entry in the list of sent1"
   ]
  },
  {
   "cell_type": "code",
   "execution_count": 3,
   "id": "a7452232-3bc6-492d-9b7d-2dce63daa797",
   "metadata": {},
   "outputs": [],
   "source": [
    "#15.\n",
    "#print(sorted(w for w in set(text5) if w.startswith('b')))\n",
    "# sorted([w for w in set(text5) if w.startswith('b')])\n",
    "#text5.startswith(b)"
   ]
  },
  {
   "cell_type": "code",
   "execution_count": 66,
   "id": "efdbb204-cea7-463f-838b-e407f8fd1abd",
   "metadata": {},
   "outputs": [
    {
     "data": {
      "text/plain": [
       "629"
      ]
     },
     "execution_count": 66,
     "metadata": {},
     "output_type": "execute_result"
    }
   ],
   "source": [
    "# 17. Index of the word sunset\n",
    "text9.index('sunset')"
   ]
  },
  {
   "cell_type": "code",
   "execution_count": 13,
   "id": "21759304-7603-44de-a3b8-7f28d107239f",
   "metadata": {},
   "outputs": [
    {
     "data": {
      "text/plain": [
       "['THE', 'END']"
      ]
     },
     "execution_count": 13,
     "metadata": {},
     "output_type": "execute_result"
    }
   ],
   "source": [
    "# 21 Extract the last two words of text2\n",
    "text2[-2:]"
   ]
  },
  {
   "cell_type": "code",
   "execution_count": 5,
   "id": "8c35bd34-bac3-4037-9ccf-d93e1249810a",
   "metadata": {},
   "outputs": [],
   "source": [
    "# 22. Find all four-letter words in the text5; print the words in decreasing order\n",
    "#for word in set(text5):\n",
    "#    if len(word) == 4:\n",
    "#        print(word)"
   ]
  },
  {
   "cell_type": "code",
   "execution_count": 7,
   "id": "a7145a15-f76e-40aa-aa7c-f73a5f1945b4",
   "metadata": {},
   "outputs": [],
   "source": [
    "four_words = FreqDist(word for word in text5 if len(word) == 4)\n",
    "#four_words.most_common()"
   ]
  },
  {
   "cell_type": "code",
   "execution_count": 33,
   "id": "5cced539-37e0-4e52-b36b-d01a6c608b39",
   "metadata": {},
   "outputs": [],
   "source": [
    "# 23. Print all the uppercase words in text6 by looping over the words\n",
    "words = [word for word in text6 if word.isupper()]\n",
    "#print(words)"
   ]
  },
  {
   "cell_type": "code",
   "execution_count": 29,
   "id": "3817859d-a29f-45b4-af1b-a16e88bb2540",
   "metadata": {},
   "outputs": [],
   "source": [
    "# 24. a. Words that ends in \"ize\" \n",
    "words_ize = [word for word in text6 if word.endswith('ize')]\n",
    "#print(words_ize)"
   ]
  },
  {
   "cell_type": "code",
   "execution_count": 27,
   "id": "0db9ceea-b2f4-4a06-8f60-6d80fd6f8e5e",
   "metadata": {},
   "outputs": [],
   "source": [
    "# b. words containing the letter z\n",
    "words_z = [word for word in text6 if 'z' in word]\n",
    "#words_z"
   ]
  },
  {
   "cell_type": "code",
   "execution_count": 25,
   "id": "cc91933e-30bf-4fa3-919b-bd0b7fe2eb16",
   "metadata": {},
   "outputs": [],
   "source": [
    "# c. words containing the sequence of letters \"pt\"\n",
    "words_pt = [word for word in text6 if \"pt\" in word]\n",
    "#words_pt"
   ]
  },
  {
   "cell_type": "code",
   "execution_count": 23,
   "id": "b8fbea1d-985b-4fa8-8725-40ee21ed0893",
   "metadata": {},
   "outputs": [],
   "source": [
    "# d. words with all lowercase letters except for an initial capital \n",
    "words_title = [word for word in text6 if word.istitle()]\n",
    "#words_title"
   ]
  },
  {
   "cell_type": "code",
   "execution_count": 53,
   "id": "9345c304-770e-4e7b-806c-71e4bf55c62b",
   "metadata": {},
   "outputs": [
    {
     "name": "stdout",
     "output_type": "stream",
     "text": [
      "['she', 'shells', 'shore']\n",
      "['sells', 'shells', 'shore']\n"
     ]
    }
   ],
   "source": [
    "sent = ['she', 'sells', 'sea', 'shells', 'by','the', 'sea', 'shore']\n",
    "# print all words beginning with 'sh'\n",
    "words_sh = [word for word in sent if word.startswith('sh')]\n",
    "print(words_sh)\n",
    "words_longerthan4 = [word for word in sent if len(word) > 4]\n",
    "print(words_longerthan4)"
   ]
  },
  {
   "cell_type": "code",
   "execution_count": 65,
   "id": "e3959142-222e-4c50-b284-eaf652a5e8d1",
   "metadata": {},
   "outputs": [],
   "source": [
    "# 28. Define a function percent(word, text) that calculates how often a given word occurs in a text; express the result as a percentage\n",
    "def percent(word, text):\n",
    "    return(text.count(word)/len(set(text)))*100"
   ]
  },
  {
   "cell_type": "code",
   "execution_count": 67,
   "id": "cfad3d97-56c6-4f2a-87fa-8d17a21d7815",
   "metadata": {},
   "outputs": [
    {
     "data": {
      "text/plain": [
       "0.5078485687903971"
      ]
     },
     "execution_count": 67,
     "metadata": {},
     "output_type": "execute_result"
    }
   ],
   "source": [
    "percent(\"she\", text6)"
   ]
  },
  {
   "cell_type": "code",
   "execution_count": 79,
   "id": "2eacae95-c88c-418b-8d58-97a5c883ce5a",
   "metadata": {},
   "outputs": [
    {
     "data": {
      "text/plain": [
       "False"
      ]
     },
     "execution_count": 79,
     "metadata": {},
     "output_type": "execute_result"
    }
   ],
   "source": [
    "len(set(sent3)) > len(set(text1))"
   ]
  },
  {
   "cell_type": "code",
   "execution_count": 75,
   "id": "ecb6f153-d173-4485-ae58-01521e958c5a",
   "metadata": {},
   "outputs": [
    {
     "data": {
      "text/plain": [
       "19317"
      ]
     },
     "execution_count": 75,
     "metadata": {},
     "output_type": "execute_result"
    }
   ],
   "source": []
  },
  {
   "cell_type": "markdown",
   "id": "5d35d421-b219-46d3-8e0e-e08ffb2bff02",
   "metadata": {},
   "source": [
    "### Chapter 2 Text Corpora\n"
   ]
  },
  {
   "cell_type": "markdown",
   "id": "984b1db3-4490-410a-b627-832d558aaf21",
   "metadata": {},
   "source": [
    "#### 2.1 Gutenberg Corpus \n",
    "#### contains some 25000 free electronic books "
   ]
  },
  {
   "cell_type": "code",
   "execution_count": 5,
   "id": "a9c1e98a-1c86-4d30-9d78-d5fa0b63449a",
   "metadata": {},
   "outputs": [
    {
     "data": {
      "text/plain": [
       "['austen-emma.txt',\n",
       " 'austen-persuasion.txt',\n",
       " 'austen-sense.txt',\n",
       " 'bible-kjv.txt',\n",
       " 'blake-poems.txt',\n",
       " 'bryant-stories.txt',\n",
       " 'burgess-busterbrown.txt',\n",
       " 'carroll-alice.txt',\n",
       " 'chesterton-ball.txt',\n",
       " 'chesterton-brown.txt',\n",
       " 'chesterton-thursday.txt',\n",
       " 'edgeworth-parents.txt',\n",
       " 'melville-moby_dick.txt',\n",
       " 'milton-paradise.txt',\n",
       " 'shakespeare-caesar.txt',\n",
       " 'shakespeare-hamlet.txt',\n",
       " 'shakespeare-macbeth.txt',\n",
       " 'whitman-leaves.txt']"
      ]
     },
     "execution_count": 5,
     "metadata": {},
     "output_type": "execute_result"
    }
   ],
   "source": [
    "nltk.corpus.gutenberg.fileids()"
   ]
  },
  {
   "cell_type": "code",
   "execution_count": 14,
   "id": "73070bed-e542-429d-adda-5b32f84b6ce4",
   "metadata": {},
   "outputs": [
    {
     "data": {
      "text/plain": [
       "192427"
      ]
     },
     "execution_count": 14,
     "metadata": {},
     "output_type": "execute_result"
    }
   ],
   "source": [
    "# Text: Emma by Jane Austen\n",
    "emma = nltk.corpus.gutenberg.words(\"austen-emma.txt\") # invoked the words() function of the gutenberg object in corpus package\n",
    "len(emma) # Emma text contains 192427 words"
   ]
  },
  {
   "cell_type": "code",
   "execution_count": 5,
   "id": "a4acd230-06f2-4969-95f4-2671d0bc3aa5",
   "metadata": {},
   "outputs": [
    {
     "data": {
      "text/plain": [
       "['austen-emma.txt',\n",
       " 'austen-persuasion.txt',\n",
       " 'austen-sense.txt',\n",
       " 'bible-kjv.txt',\n",
       " 'blake-poems.txt',\n",
       " 'bryant-stories.txt',\n",
       " 'burgess-busterbrown.txt',\n",
       " 'carroll-alice.txt',\n",
       " 'chesterton-ball.txt',\n",
       " 'chesterton-brown.txt',\n",
       " 'chesterton-thursday.txt',\n",
       " 'edgeworth-parents.txt',\n",
       " 'melville-moby_dick.txt',\n",
       " 'milton-paradise.txt',\n",
       " 'shakespeare-caesar.txt',\n",
       " 'shakespeare-hamlet.txt',\n",
       " 'shakespeare-macbeth.txt',\n",
       " 'whitman-leaves.txt']"
      ]
     },
     "execution_count": 5,
     "metadata": {},
     "output_type": "execute_result"
    }
   ],
   "source": [
    "from nltk.corpus import gutenberg\n",
    "gutenberg.fileids()"
   ]
  },
  {
   "cell_type": "code",
   "execution_count": 13,
   "id": "3168da4c-7b01-4b84-aef6-522c3e97ef95",
   "metadata": {},
   "outputs": [
    {
     "name": "stdout",
     "output_type": "stream",
     "text": [
      "4 24 26 austen-emma.txt\n",
      "4 26 16 austen-persuasion.txt\n",
      "4 28 22 austen-sense.txt\n",
      "4 33 79 bible-kjv.txt\n",
      "4 19 5 blake-poems.txt\n",
      "4 19 14 bryant-stories.txt\n",
      "4 17 12 burgess-busterbrown.txt\n",
      "4 20 12 carroll-alice.txt\n",
      "4 20 11 chesterton-ball.txt\n",
      "4 22 11 chesterton-brown.txt\n",
      "4 18 10 chesterton-thursday.txt\n",
      "4 20 24 edgeworth-parents.txt\n",
      "4 25 15 melville-moby_dick.txt\n",
      "4 52 10 milton-paradise.txt\n",
      "4 11 8 shakespeare-caesar.txt\n",
      "4 12 7 shakespeare-hamlet.txt\n",
      "4 12 6 shakespeare-macbeth.txt\n",
      "4 36 12 whitman-leaves.txt\n"
     ]
    }
   ],
   "source": [
    "# looping over all the values of fileid and display the following computing statistics: Avg word length, Avg sentence length,\n",
    "# number of times each vocab item appears in the text on average\n",
    "for fileid in gutenberg.fileids():\n",
    "    num_chars = len(gutenberg.raw(fileid))\n",
    "    num_words = len(gutenberg.words(fileid))\n",
    "    num_sents = len(gutenberg.sents(fileid))\n",
    "    num_vocabs = len(set([w.lower() for w in gutenberg.words(fileid)]))\n",
    "    print(int(num_chars/num_words), int(num_words/num_sents), int(num_words/num_vocabs),\n",
    "    fileid)"
   ]
  },
  {
   "cell_type": "code",
   "execution_count": 25,
   "id": "fb2039e6-df77-4695-88da-59a793a4c7e8",
   "metadata": {},
   "outputs": [
    {
     "data": {
      "text/plain": [
       "['[',\n",
       " 'The',\n",
       " 'Tragedie',\n",
       " 'of',\n",
       " 'Macbeth',\n",
       " 'by',\n",
       " 'William',\n",
       " 'Shakespeare',\n",
       " '1603',\n",
       " ']']"
      ]
     },
     "execution_count": 25,
     "metadata": {},
     "output_type": "execute_result"
    }
   ],
   "source": [
    "macbeth_sentences = gutenberg.sents('shakespeare-macbeth.txt')\n",
    "macbeth_sentences # each sentence is a list of words \n",
    "macbeth_sentences[0]"
   ]
  },
  {
   "cell_type": "markdown",
   "id": "cefec9f0-8b87-48b3-a697-ab2fd42e5876",
   "metadata": {},
   "source": [
    "#### Web and Chat Text"
   ]
  },
  {
   "cell_type": "code",
   "execution_count": 31,
   "id": "83714570-2aad-4a39-a69b-3f485d4c6255",
   "metadata": {},
   "outputs": [
    {
     "name": "stdout",
     "output_type": "stream",
     "text": [
      "firefox.txt Cookie Manager: \"Don't allow sites that set removed cookies to se ...\n",
      "grail.txt SCENE 1: [wind] [clop clop clop] \n",
      "KING ARTHUR: Whoa there!  [clop ...\n",
      "overheard.txt White guy: So, do you have any plans for this evening?\n",
      "Asian girl ...\n",
      "pirates.txt PIRATES OF THE CARRIBEAN: DEAD MAN'S CHEST, by Ted Elliott & Terr ...\n",
      "singles.txt 25 SEXY MALE, seeks attrac older single lady, for discreet encoun ...\n",
      "wine.txt Lovely delicate, fragrant Rhone wine. Polished leather and strawb ...\n"
     ]
    }
   ],
   "source": [
    "from nltk.corpus import webtext\n",
    "for fileid in webtext.fileids():\n",
    "    print(fileid,webtext.raw(fileid)[:65], '...')"
   ]
  },
  {
   "cell_type": "code",
   "execution_count": 43,
   "id": "45fb077f-3c6c-4f67-a4a0-01989b0dd0e0",
   "metadata": {},
   "outputs": [
    {
     "data": {
      "text/plain": [
       "['i',\n",
       " 'do',\n",
       " \"n't\",\n",
       " 'want',\n",
       " 'hot',\n",
       " 'pics',\n",
       " 'of',\n",
       " 'a',\n",
       " 'female',\n",
       " ',',\n",
       " 'I',\n",
       " 'can',\n",
       " 'look',\n",
       " 'in',\n",
       " 'a',\n",
       " 'mirror',\n",
       " '.']"
      ]
     },
     "execution_count": 43,
     "metadata": {},
     "output_type": "execute_result"
    }
   ],
   "source": [
    "from nltk.corpus import nps_chat\n",
    "#for fileid in nps_chat.fileids():\n",
    "#    print(fileid)\n",
    "chatroom = nps_chat.posts('10-19-20s_706posts.xml')\n",
    "chatroom[123]"
   ]
  },
  {
   "cell_type": "markdown",
   "id": "689cdb79-d944-47da-b4b8-f9a98cdbaf53",
   "metadata": {},
   "source": [
    "#### Brown Corpus"
   ]
  },
  {
   "cell_type": "code",
   "execution_count": 57,
   "id": "27db8c22-4cea-44c9-8b48-41e621b29df5",
   "metadata": {},
   "outputs": [
    {
     "data": {
      "text/plain": [
       "['adventure',\n",
       " 'belles_lettres',\n",
       " 'editorial',\n",
       " 'fiction',\n",
       " 'government',\n",
       " 'hobbies',\n",
       " 'humor',\n",
       " 'learned',\n",
       " 'lore',\n",
       " 'mystery',\n",
       " 'news',\n",
       " 'religion',\n",
       " 'reviews',\n",
       " 'romance',\n",
       " 'science_fiction']"
      ]
     },
     "execution_count": 57,
     "metadata": {},
     "output_type": "execute_result"
    }
   ],
   "source": [
    "from nltk.corpus import brown\n",
    "brown.categories() # genres of Brown Corpus"
   ]
  },
  {
   "cell_type": "code",
   "execution_count": 50,
   "id": "0c8f4473-a18b-46ff-a3f4-887deda3e6af",
   "metadata": {},
   "outputs": [
    {
     "data": {
      "text/plain": [
       "['The', 'Fulton', 'County', 'Grand', 'Jury', 'said', ...]"
      ]
     },
     "execution_count": 50,
     "metadata": {},
     "output_type": "execute_result"
    }
   ],
   "source": [
    "# list of words from News genre of Brown Corpus\n",
    "brown.words(categories = 'news')"
   ]
  },
  {
   "cell_type": "code",
   "execution_count": 52,
   "id": "38e2c7a4-6d26-4787-8ac6-4e2c714bc605",
   "metadata": {},
   "outputs": [
    {
     "name": "stdout",
     "output_type": "stream",
     "text": [
      "can: 94\n",
      "could: 87\n",
      "may: 93\n",
      "might: 38\n",
      "must: 53\n",
      "will: 389\n"
     ]
    }
   ],
   "source": [
    "# Compare genres in their usage of modal verbs \n",
    "# News genre\n",
    "news_text = brown.words(categories = \"news\")\n",
    "fdist = nltk.FreqDist([w.lower() for w in news_text])\n",
    "modals = ['can', 'could', 'may', 'might', 'must', 'will']\n",
    "for m in modals:\n",
    "    print(m + ':', fdist[m],)"
   ]
  },
  {
   "cell_type": "code",
   "execution_count": 61,
   "id": "9ff94625-c401-49da-afd4-866ddfe2ec84",
   "metadata": {},
   "outputs": [
    {
     "name": "stdout",
     "output_type": "stream",
     "text": [
      "what: 108\n",
      "when: 164\n",
      "where: 77\n",
      "who: 104\n",
      "why: 17\n"
     ]
    }
   ],
   "source": [
    "# Count the \"what\", \"when\", \"where\", \"who\", and \"why\" from one genre of Brown Corpus\n",
    "hobbies_text = brown.words(categories = 'hobbies')\n",
    "fdist = nltk.FreqDist([w.lower() for w in hobbies_text]) \n",
    "wh_words = ['what', 'when', 'where', 'who', 'why']\n",
    "for word in wh_words:\n",
    "    print(word + ':', fdist[word]) "
   ]
  },
  {
   "cell_type": "code",
   "execution_count": 58,
   "id": "dd7f9740-e3ec-4d08-814b-e6558da4613b",
   "metadata": {},
   "outputs": [
    {
     "name": "stdout",
     "output_type": "stream",
     "text": [
      "                  can could   may might  must  will \n",
      "           news    93    86    66    38    50   389 \n",
      "       religion    82    59    78    12    54    71 \n",
      "        hobbies   268    58   131    22    83   264 \n",
      "science_fiction    16    49     4    12     8    16 \n",
      "        romance    74   193    11    51    45    43 \n",
      "          humor    16    30     8     8     9    13 \n"
     ]
    }
   ],
   "source": [
    "# Conditional Frequency distribution: Count for each genres\n",
    "cfd = nltk.ConditionalFreqDist(\n",
    "    (genre, word)\n",
    "    for genre in brown.categories()\n",
    "    for word in brown.words(categories = genre))\n",
    "genres = ['news', 'religion', 'hobbies', 'science_fiction', 'romance', 'humor']\n",
    "modals = ['can', 'could', 'may','might', 'must', 'will']\n",
    "cfd.tabulate(conditions = genres, samples = modals)"
   ]
  },
  {
   "cell_type": "markdown",
   "id": "b5638676-1cd7-48fe-8de2-77d0a93c3d7b",
   "metadata": {},
   "source": [
    "#### Reuters Corpus"
   ]
  },
  {
   "cell_type": "code",
   "execution_count": 78,
   "id": "30dcc295-57ee-438a-a750-6c894587fe80",
   "metadata": {},
   "outputs": [
    {
     "data": {
      "text/plain": [
       "['FRENCH', 'FREE', 'MARKET', 'CEREAL', 'EXPORT', ...]"
      ]
     },
     "execution_count": 78,
     "metadata": {},
     "output_type": "execute_result"
    }
   ],
   "source": [
    "from nltk.corpus import reuters\n",
    "reuters.fileids()\n",
    "len(reuters.categories()) # 90 topics \n",
    "\n",
    "# words in the topic \"barley\" of Reuters Corpus\n",
    "reuters.words(categories = 'barley')"
   ]
  },
  {
   "cell_type": "markdown",
   "id": "9b7da8fb-eb06-4624-8d48-e9a1265a3e8f",
   "metadata": {},
   "source": [
    "#### Inargural Address Corpus"
   ]
  },
  {
   "cell_type": "code",
   "execution_count": 85,
   "id": "276cedbe-8cfc-4a97-812c-4c0d1d524626",
   "metadata": {},
   "outputs": [
    {
     "data": {
      "text/plain": [
       "['1789',\n",
       " '1793',\n",
       " '1797',\n",
       " '1801',\n",
       " '1805',\n",
       " '1809',\n",
       " '1813',\n",
       " '1817',\n",
       " '1821',\n",
       " '1825',\n",
       " '1829',\n",
       " '1833',\n",
       " '1837',\n",
       " '1841',\n",
       " '1845',\n",
       " '1849',\n",
       " '1853',\n",
       " '1857',\n",
       " '1861',\n",
       " '1865',\n",
       " '1869',\n",
       " '1873',\n",
       " '1877',\n",
       " '1881',\n",
       " '1885',\n",
       " '1889',\n",
       " '1893',\n",
       " '1897',\n",
       " '1901',\n",
       " '1905',\n",
       " '1909',\n",
       " '1913',\n",
       " '1917',\n",
       " '1921',\n",
       " '1925',\n",
       " '1929',\n",
       " '1933',\n",
       " '1937',\n",
       " '1941',\n",
       " '1945',\n",
       " '1949',\n",
       " '1953',\n",
       " '1957',\n",
       " '1961',\n",
       " '1965',\n",
       " '1969',\n",
       " '1973',\n",
       " '1977',\n",
       " '1981',\n",
       " '1985',\n",
       " '1989',\n",
       " '1993',\n",
       " '1997',\n",
       " '2001',\n",
       " '2005',\n",
       " '2009',\n",
       " '2013',\n",
       " '2017',\n",
       " '2021']"
      ]
     },
     "execution_count": 85,
     "metadata": {},
     "output_type": "execute_result"
    }
   ],
   "source": [
    "from nltk.corpus import inaugural \n",
    "inaugural.fileids()\n",
    "\n",
    "# Extract the years of the augural addresses\n",
    "#[fileid[:4] for fileid in inaugural.fileids()]"
   ]
  },
  {
   "cell_type": "code",
   "execution_count": 91,
   "id": "098af72a-a93c-41f6-ae0b-9091ff00d441",
   "metadata": {},
   "outputs": [
    {
     "data": {
      "image/png": "[encoded data removed]",
      "text/plain": [
       "<Figure size 640x480 with 1 Axes>"
      ]
     },
     "metadata": {},
     "output_type": "display_data"
    },
    {
     "data": {
      "text/plain": [
       "<Axes: xlabel='Samples', ylabel='Counts'>"
      ]
     },
     "execution_count": 91,
     "metadata": {},
     "output_type": "execute_result"
    }
   ],
   "source": [
    "# How words \"America\" and \"citizen\" are used over time using startwith()\n",
    "cfd = nltk.ConditionalFreqDist(\n",
    "    (target, fileid[:4])\n",
    "    for fileid in inaugural.fileids() # iterate over all files\n",
    "    for word in inaugural.words(fileid) # iterate over all words in all files \n",
    "    for target in ['america', 'citizen'] \n",
    "    if word.lower().startswith(target)) # If \"America\", lowercase it and check if it starts with america or citizen\n",
    "\n",
    "# Conditional Frequency Distribution of all words in the Inaugural Address Corpus that begin with america or citizen \n",
    "cfd.plot() "
   ]
  },
  {
   "cell_type": "code",
   "execution_count": 12,
   "id": "c6948806-4ddb-4637-8980-6ce1f754c697",
   "metadata": {},
   "outputs": [
    {
     "data": {
      "text/plain": [
       "'C:\\\\Users\\\\minjk'"
      ]
     },
     "execution_count": 12,
     "metadata": {},
     "output_type": "execute_result"
    }
   ],
   "source": [
    "# loading your own corpus from your current working directory \n",
    "from nltk.corpus import PlaintextCorpusReader \n",
    "# corpus_root= your directory\n",
    "# wordlists = PlaintextCorpusReader(corpus_root, '.*')\n",
    "import os \n",
    "os.getcwd() # This is current directory "
   ]
  },
  {
   "cell_type": "code",
   "execution_count": 24,
   "id": "1433c444-2d86-4230-ae49-5addf155e74a",
   "metadata": {},
   "outputs": [],
   "source": [
    "corpus_root = 'C:\\\\Users\\\\minjk' # set this to be the value of value of corpus_root\n",
    "wordlists = PlaintextCorpusReader(corpus_root, 'chp2myowncorpus')"
   ]
  },
  {
   "cell_type": "markdown",
   "id": "c8ec87a8-a283-4eb5-a215-0b8917480c4b",
   "metadata": {},
   "source": [
    "#### 2.2 Conditonal Frequency Distributions: separate frequency distributions for each category which allow us to study systematic differences between the categories"
   ]
  },
  {
   "cell_type": "code",
   "execution_count": 30,
   "id": "2605c020-4680-43c9-a59a-879e9de4e9c5",
   "metadata": {},
   "outputs": [
    {
     "data": {
      "text/plain": [
       "FreqDist({'the': 5580, ',': 5188, '.': 4030, 'of': 2849, 'and': 2146, 'to': 2116, 'a': 1993, 'in': 1893, 'for': 943, 'The': 806, ...})"
      ]
     },
     "execution_count": 30,
     "metadata": {},
     "output_type": "execute_result"
    }
   ],
   "source": [
    "# Pair each event with a condition for a conditional frequency distribution\n",
    "# Working with Brown Corpus\n",
    "from nltk.corpus import brown\n",
    "cfd = nltk.ConditionalFreqDist(\n",
    "    (genre, word)\n",
    "    for genre in brown.categories()\n",
    "    for word in brown.words(categories = genre))\n",
    "cfd['news']"
   ]
  },
  {
   "cell_type": "code",
   "execution_count": 32,
   "id": "dcb65a3a-15e8-438f-900b-97eeb3e97a15",
   "metadata": {},
   "outputs": [],
   "source": [
    "# Working with two genres of Brown Corpus: News and Romance\n",
    "genre_word = [(genre, word)\n",
    "              for genre in ['news', 'romance']\n",
    "              for word in brown.words(categories= genre)]\n",
    "# genre_word"
   ]
  },
  {
   "cell_type": "code",
   "execution_count": 54,
   "id": "f001260e-2a6e-4a23-b747-36407f55ff23",
   "metadata": {},
   "outputs": [
    {
     "data": {
      "image/png": "[encoded data removed]",
      "text/plain": [
       "<Figure size 640x480 with 1 Axes>"
      ]
     },
     "metadata": {},
     "output_type": "display_data"
    },
    {
     "data": {
      "text/plain": [
       "<Axes: xlabel='Samples', ylabel='Counts'>"
      ]
     },
     "execution_count": 54,
     "metadata": {},
     "output_type": "execute_result"
    }
   ],
   "source": [
    "# Conditional frequency distribution of two genres: news and romance\n",
    "cfd = nltk.ConditionalFreqDist(genre_word)\n",
    "cfd.plot(conditions = ['news', 'romance'])"
   ]
  },
  {
   "cell_type": "code",
   "execution_count": 89,
   "id": "9a4bb55c-f006-43dc-8fdd-f508163db8ee",
   "metadata": {},
   "outputs": [],
   "source": [
    "# Define a variable called days containing a list of days of the week \n",
    "days = ['Monday', 'Tuesday', 'Wednesday', 'Thursday', 'Friday', 'Saturday', 'Sunday']"
   ]
  },
  {
   "cell_type": "code",
   "execution_count": 91,
   "id": "b3aee151-8db9-438d-a467-fdc4b2e7093e",
   "metadata": {},
   "outputs": [
    {
     "name": "stdout",
     "output_type": "stream",
     "text": [
      "           Friday    Monday  Saturday    Sunday  Thursday   Tuesday Wednesday \n",
      "   news         1         2         3         4         5         6         7 \n",
      "romance         1         2         3         4         5         6         7 \n"
     ]
    }
   ],
   "source": [
    "genre_day = [(genre, day)\n",
    "             for genre in [\"news\", \"romance\"]\n",
    "             for day in days]\n",
    "cfd = nltk.ConditionalFreqDist(genre_day)\n",
    "cfd.tabulate(cumulative = True)"
   ]
  },
  {
   "cell_type": "code",
   "execution_count": 7,
   "id": "e14b5415-4148-43e1-9f85-af445e257d51",
   "metadata": {},
   "outputs": [
    {
     "data": {
      "text/plain": [
       "[Synset('car.n.01')]"
      ]
     },
     "execution_count": 7,
     "metadata": {},
     "output_type": "execute_result"
    }
   ],
   "source": [
    "# 2.5 Word Net\n",
    "from nltk.corpus import wordnet as wn \n",
    "wn.synsets('motorcar') # synonym sets for \"motorcar\" \n"
   ]
  },
  {
   "cell_type": "code",
   "execution_count": 31,
   "id": "5b4044c2-d7db-4030-af35-71107e7218ce",
   "metadata": {},
   "outputs": [
    {
     "data": {
      "text/plain": [
       "<bound method Synset.lemmas of Synset('car.n.01')>"
      ]
     },
     "execution_count": 31,
     "metadata": {},
     "output_type": "execute_result"
    }
   ],
   "source": [
    "wn.synset('car.n.01').lemmas"
   ]
  },
  {
   "cell_type": "code",
   "execution_count": null,
   "id": "8193e863-671f-45ab-aefb-4eeb8ea01754",
   "metadata": {},
   "outputs": [],
   "source": [
    "#### Hypernym: a word with a broad meaning that more specific words fall under Ex: Animal is a hypernym of cat\n",
    "#### Hyponym: a word of more specific meaning than a general term Ex: Cat is a hyponym of Animal \n",
    "#### Meronym: a term that denotes part of something but is used to refer to the whole of it Ex. Windshield is a meronym of car\n",
    "#### Holonym: a term that denotes a whole of something: Car is a holonym of windshield "
   ]
  },
  {
   "cell_type": "markdown",
   "id": "97faf51f-0b07-4c9f-ae2a-06818ca0d6ee",
   "metadata": {},
   "source": [
    "#### Chapter 2. Exercises "
   ]
  },
  {
   "cell_type": "code",
   "execution_count": 62,
   "id": "28fea5ec-70f7-479c-abce-191410bc480b",
   "metadata": {},
   "outputs": [
    {
     "data": {
      "text/plain": [
       "5835"
      ]
     },
     "execution_count": 62,
     "metadata": {},
     "output_type": "execute_result"
    }
   ],
   "source": [
    "#2 Use the corpus module to explore austen-persuasion.txt\n",
    "nltk.corpus.gutenberg.words(\"austen-persuasion.txt\")# number of word types\n",
    "\n",
    "# number of tokens in the text\n",
    "tokens = [word for word in gutenberg.words(\"austen-persuasion.txt\") if word.isalpha()]\n",
    "# number of word types \n",
    "word_types = set([word.lower() for word in gutenberg.words(\"austen-persuasion.txt\")])\n",
    "#len(word_types)     \n",
    "len(tokens)\n",
    "len(word_types)"
   ]
  },
  {
   "cell_type": "code",
   "execution_count": 76,
   "id": "5caf3bd4-0a66-4a57-a49a-c28e165a3076",
   "metadata": {},
   "outputs": [
    {
     "data": {
      "text/plain": [
       "['adventure',\n",
       " 'belles_lettres',\n",
       " 'editorial',\n",
       " 'fiction',\n",
       " 'government',\n",
       " 'hobbies',\n",
       " 'humor',\n",
       " 'learned',\n",
       " 'lore',\n",
       " 'mystery',\n",
       " 'news',\n",
       " 'religion',\n",
       " 'reviews',\n",
       " 'romance',\n",
       " 'science_fiction']"
      ]
     },
     "execution_count": 76,
     "metadata": {},
     "output_type": "execute_result"
    }
   ],
   "source": [
    "# 3. Use the Brown Corpus reader or Web Text Corpus reader to access some sample text in two different genres \n",
    "nltk.corpus.brown.categories()"
   ]
  },
  {
   "cell_type": "code",
   "execution_count": 84,
   "id": "fcf6f835-988a-450b-b9ec-28b4bb1b7e89",
   "metadata": {},
   "outputs": [
    {
     "data": {
      "text/plain": [
       "['Dan', 'Morgan', 'told', 'himself', 'he', 'would', ...]"
      ]
     },
     "execution_count": 84,
     "metadata": {},
     "output_type": "execute_result"
    }
   ],
   "source": [
    "nltk.corpus.brown.words(categories = \"adventure\")"
   ]
  },
  {
   "cell_type": "code",
   "execution_count": 88,
   "id": "d4f4c6a6-55e1-4ac4-9b0e-a9120401001d",
   "metadata": {},
   "outputs": [
    {
     "data": {
      "text/plain": [
       "['The', 'Office', 'of', 'Business', 'Economics', '(', ...]"
      ]
     },
     "execution_count": 88,
     "metadata": {},
     "output_type": "execute_result"
    }
   ],
   "source": [
    "nltk.corpus.brown.words(categories = \"government\")"
   ]
  },
  {
   "cell_type": "code",
   "execution_count": 96,
   "id": "b1668eda-1020-41f8-8a98-6354ead6fcdb",
   "metadata": {},
   "outputs": [
    {
     "data": {
      "text/plain": [
       "['firefox.txt',\n",
       " 'grail.txt',\n",
       " 'overheard.txt',\n",
       " 'pirates.txt',\n",
       " 'singles.txt',\n",
       " 'wine.txt']"
      ]
     },
     "execution_count": 96,
     "metadata": {},
     "output_type": "execute_result"
    }
   ],
   "source": [
    "nltk.corpus.webtext.fileids()"
   ]
  },
  {
   "cell_type": "code",
   "execution_count": 100,
   "id": "11f7f8d2-d70e-405c-a0f6-dec2a5ef13c9",
   "metadata": {},
   "outputs": [
    {
     "data": {
      "text/plain": [
       "['PIRATES', 'OF', 'THE', 'CARRIBEAN', ':', 'DEAD', ...]"
      ]
     },
     "execution_count": 100,
     "metadata": {},
     "output_type": "execute_result"
    }
   ],
   "source": [
    "nltk.corpus.webtext.words(fileids = \"pirates.txt\")"
   ]
  },
  {
   "cell_type": "code",
   "execution_count": 42,
   "id": "1d7c9fb1-b62f-4fd1-81d6-6e8835b365e1",
   "metadata": {},
   "outputs": [
    {
     "name": "stdout",
     "output_type": "stream",
     "text": [
      "                       men  women people \n",
      "    1945-Truman.txt      2      2     10 \n",
      "    1946-Truman.txt     12      7     49 \n",
      "    1947-Truman.txt      7      2     12 \n",
      "    1948-Truman.txt      4      1     22 \n",
      "    1949-Truman.txt      2      1     15 \n",
      "    1950-Truman.txt      6      2     15 \n",
      "    1951-Truman.txt      8      2      9 \n",
      "1953-Eisenhower.txt      3      0     17 \n",
      "1954-Eisenhower.txt      2      0     15 \n",
      "1955-Eisenhower.txt      4      0     26 \n",
      "1956-Eisenhower.txt      2      2     30 \n",
      "1957-Eisenhower.txt      5      2     11 \n",
      "1958-Eisenhower.txt      2      1     19 \n",
      "1959-Eisenhower.txt      4      1     11 \n",
      "1960-Eisenhower.txt      2      0     10 \n",
      "   1961-Kennedy.txt      6      0     10 \n",
      "   1962-Kennedy.txt      6      2     10 \n",
      "   1963-Johnson.txt      0      0      3 \n",
      "   1963-Kennedy.txt      8      5     12 \n",
      "   1964-Johnson.txt      3      1      3 \n",
      " 1965-Johnson-1.txt      7      0     16 \n",
      " 1965-Johnson-2.txt     11      3     14 \n",
      "   1966-Johnson.txt     12      1     35 \n",
      "   1967-Johnson.txt     11      1     25 \n",
      "   1968-Johnson.txt      4      0     17 \n",
      "   1969-Johnson.txt      5      2      6 \n",
      "     1970-Nixon.txt      2      0     23 \n",
      "     1971-Nixon.txt      1      0     31 \n",
      "     1972-Nixon.txt      1      0      7 \n",
      "     1973-Nixon.txt      0      0      9 \n",
      "     1974-Nixon.txt      0      0     19 \n",
      "      1975-Ford.txt      0      0     13 \n",
      "      1976-Ford.txt      3      1     18 \n",
      "      1977-Ford.txt      2      1     17 \n",
      "    1978-Carter.txt      0      1     26 \n",
      "    1979-Carter.txt      0      1     15 \n",
      "    1980-Carter.txt      1      2     11 \n",
      "    1981-Reagan.txt      1      1     11 \n",
      "    1982-Reagan.txt      1      1     17 \n",
      "    1983-Reagan.txt      3      7     19 \n",
      "    1984-Reagan.txt      3      5     23 \n",
      "    1985-Reagan.txt      1      1     12 \n",
      "    1986-Reagan.txt      2      2     14 \n",
      "    1987-Reagan.txt      1      0     24 \n",
      "    1988-Reagan.txt      1      0     16 \n",
      "      1989-Bush.txt      2      3     13 \n",
      "      1990-Bush.txt      3      2      9 \n",
      "    1991-Bush-1.txt      2      2     13 \n",
      "    1991-Bush-2.txt      7      7     13 \n",
      "      1992-Bush.txt      4      4     26 \n",
      "   1993-Clinton.txt      1      2     45 \n",
      "   1994-Clinton.txt      1      1     63 \n",
      "   1995-Clinton.txt      1      3     73 \n",
      "   1996-Clinton.txt      2      3     40 \n",
      "   1997-Clinton.txt      1      2     30 \n",
      "   1998-Clinton.txt      2      2     22 \n",
      "   1999-Clinton.txt      2      3     22 \n",
      "   2000-Clinton.txt      5      6     41 \n",
      "  2001-GWBush-1.txt      3      3     14 \n",
      "  2001-GWBush-2.txt      1      2     12 \n",
      "    2002-GWBush.txt      3      5     14 \n",
      "    2003-GWBush.txt      6      4     33 \n",
      "    2004-GWBush.txt      6      8     21 \n",
      "    2005-GWBush.txt      8     11     18 \n",
      "    2006-GWBush.txt      7      7     22 \n"
     ]
    }
   ],
   "source": [
    "# 4. Count occurrences of men, women, and people in each document \n",
    "\n",
    "# State of the Union addresses \n",
    "nltk.corpus.state_union.fileids()\n",
    "\n",
    "# Looping over each document to obtain words on each document \n",
    "#for fileid in nltk.corpus.state_union.fileids(): \n",
    "#    print(nltk.corpus.state_union.words(fileid))\n",
    "\n",
    "\n",
    "cfd_address = nltk.ConditionalFreqDist(\n",
    "    (fileid, word)\n",
    "    for fileid in nltk.corpus.state_union.fileids()\n",
    "    for word in nltk.corpus.state_union.words(fileid))\n",
    "words = ['men', 'women', 'people']\n",
    "cfd_address.tabulate(conditions = nltk.corpus.state_union.fileids(), samples = words)\n",
    "\n",
    "#cfd_address.plot(conditions = nltk.corpus.state_union.fileids())"
   ]
  },
  {
   "cell_type": "code",
   "execution_count": 46,
   "id": "89e3666e-74cf-4211-ad3d-584238d5d181",
   "metadata": {},
   "outputs": [
    {
     "data": {
      "image/png": "[encoded data removed]",
      "text/plain": [
       "<Figure size 640x480 with 1 Axes>"
      ]
     },
     "metadata": {},
     "output_type": "display_data"
    },
    {
     "data": {
      "text/plain": [
       "<Axes: xlabel='Samples', ylabel='Counts'>"
      ]
     },
     "execution_count": 46,
     "metadata": {},
     "output_type": "execute_result"
    }
   ],
   "source": [
    "# Plot the frequency distribution of words: men, women, people in each of state addresses\n",
    "cfd_address1 = nltk.ConditionalFreqDist(\n",
    "    (target, fileid[:4]) # target is 3 words: men, women, people restricting the fileid to only years of addresses\n",
    "    for fileid in nltk.corpus.state_union.fileids()\n",
    "    for word in nltk.corpus.state_union.words(fileid) \n",
    "    for target in ['men', 'women', 'people']\n",
    "    if word.lower().startswith(target)) # if Men, Women, People, then make it lowercased word and include those into counts\n",
    "cfd_address1.plot()"
   ]
  },
  {
   "cell_type": "code",
   "execution_count": 29,
   "id": "31bdfa0c-9e57-4337-b232-01c6469a09ff",
   "metadata": {},
   "outputs": [
    {
     "name": "stdout",
     "output_type": "stream",
     "text": [
      "                           men  women people \n",
      "        austen-emma.txt     29     19     93 \n",
      "  austen-persuasion.txt     31     20     39 \n",
      "       austen-sense.txt     23     11     54 \n",
      "          bible-kjv.txt   1657    181   2143 \n",
      "        blake-poems.txt      4      1      0 \n",
      "     bryant-stories.txt     44     12     74 \n",
      "burgess-busterbrown.txt      1      0     21 \n",
      "      carroll-alice.txt      1      0     13 \n",
      "    chesterton-ball.txt     96      6     64 \n",
      "   chesterton-brown.txt     61      7     36 \n",
      "chesterton-thursday.txt     88      6     40 \n",
      "  edgeworth-parents.txt     35      5    104 \n",
      " melville-moby_dick.txt    236     11     42 \n",
      "    milton-paradise.txt     51      3      5 \n",
      " shakespeare-caesar.txt     62      2      7 \n",
      " shakespeare-hamlet.txt     10      0      1 \n",
      "shakespeare-macbeth.txt     15      2      4 \n",
      "     whitman-leaves.txt    197    101     33 \n"
     ]
    }
   ],
   "source": [
    "# Count the occurrence of words in each document of gutenberg corpus\n",
    "nltk.corpus.gutenberg.fileids() # A list of each document of gutenberg corpus \n",
    "\n",
    "# Looping over gutenberg text files and words \n",
    "\n",
    "cfd_gutenberg = nltk.ConditionalFreqDist(\n",
    "    (fileid, word) \n",
    "    for fileid in nltk.corpus.gutenberg.fileids()\n",
    "    for word in nltk.corpus.gutenberg.words(fileid))\n",
    "\n",
    "words = ['men', 'women', 'people']\n",
    "cfd_gutenberg.tabulate(conditions = nltk.corpus.gutenberg.fileids(), samples = words) "
   ]
  },
  {
   "cell_type": "code",
   "execution_count": 33,
   "id": "582f8db6-eff4-42bd-b671-9833b50fea19",
   "metadata": {},
   "outputs": [
    {
     "name": "stderr",
     "output_type": "stream",
     "text": [
      "C:\\Users\\minjk\\anaconda3\\Lib\\site-packages\\IPython\\core\\pylabtools.py:170: UserWarning: Glyph 26 (\u001a) missing from current font.\n",
      "  fig.canvas.print_figure(bytes_io, **kw)\n"
     ]
    },
    {
     "data": {
      "image/png": "[encoded data removed]",
      "text/plain": [
       "<Figure size 640x480 with 1 Axes>"
      ]
     },
     "metadata": {},
     "output_type": "display_data"
    },
    {
     "data": {
      "text/plain": [
       "<Axes: xlabel='Samples', ylabel='Counts'>"
      ]
     },
     "execution_count": 33,
     "metadata": {},
     "output_type": "execute_result"
    }
   ],
   "source": [
    "# Plot the occurrence of words 'men', 'women', 'people' in each text document in gutenberg corpus\n",
    "# cfd_gutenberg.plot()"
   ]
  },
  {
   "cell_type": "code",
   "execution_count": 7,
   "id": "fdf80c4d-aa43-4736-a826-a2275ee760d6",
   "metadata": {},
   "outputs": [
    {
     "data": {
      "text/plain": [
       "[Synset('computer.n.01'), Synset('calculator.n.01')]"
      ]
     },
     "execution_count": 7,
     "metadata": {},
     "output_type": "execute_result"
    }
   ],
   "source": [
    "# 5. Holonym-meronym \n",
    "from nltk.corpus import wordnet as wn\n",
    "\n",
    "wn.synsets(\"computer\") # synonym set: lemmas of the word \"eat\""
   ]
  },
  {
   "cell_type": "code",
   "execution_count": 41,
   "id": "9e76377d-0ccf-4c54-87d4-c6271118220b",
   "metadata": {},
   "outputs": [
    {
     "data": {
      "text/plain": [
       "[Synset('busbar.n.01'),\n",
       " Synset('cathode-ray_tube.n.01'),\n",
       " Synset('central_processing_unit.n.01'),\n",
       " Synset('chip.n.07'),\n",
       " Synset('computer_accessory.n.01'),\n",
       " Synset('computer_circuit.n.01'),\n",
       " Synset('data_converter.n.01'),\n",
       " Synset('disk_cache.n.01'),\n",
       " Synset('diskette.n.01'),\n",
       " Synset('hardware.n.03'),\n",
       " Synset('keyboard.n.01'),\n",
       " Synset('memory.n.04'),\n",
       " Synset('monitor.n.04'),\n",
       " Synset('peripheral.n.01')]"
      ]
     },
     "execution_count": 41,
     "metadata": {},
     "output_type": "execute_result"
    }
   ],
   "source": [
    "# Meronyms of the word \"computer\" \n",
    "wn.synset('computer.n.01').part_meronyms()"
   ]
  },
  {
   "cell_type": "code",
   "execution_count": 75,
   "id": "8bef2f73-d787-4dbd-bd3f-390bd32dc9d8",
   "metadata": {},
   "outputs": [
    {
     "data": {
      "text/plain": [
       "[Synset('person.n.01')]"
      ]
     },
     "execution_count": 75,
     "metadata": {},
     "output_type": "execute_result"
    }
   ],
   "source": [
    "# Meronyms of the word \"animal\" \n",
    "#wn.synset(\"ani\").member_meronyms()\n",
    "#wn.synsets(\"people\")\n",
    "wn.synset(\"people.n.01\").member_meronyms()"
   ]
  },
  {
   "cell_type": "code",
   "execution_count": 85,
   "id": "64c3e2a4-42dd-4709-b777-0b1a20d0093d",
   "metadata": {},
   "outputs": [
    {
     "data": {
      "text/plain": [
       "[Synset('paper.n.01'),\n",
       " Synset('composition.n.08'),\n",
       " Synset('newspaper.n.01'),\n",
       " Synset('paper.n.04'),\n",
       " Synset('paper.n.05'),\n",
       " Synset('newspaper.n.02'),\n",
       " Synset('newspaper.n.03'),\n",
       " Synset('paper.v.01'),\n",
       " Synset('wallpaper.v.01')]"
      ]
     },
     "execution_count": 85,
     "metadata": {},
     "output_type": "execute_result"
    }
   ],
   "source": [
    "wn.synsets(\"paper\")"
   ]
  },
  {
   "cell_type": "code",
   "execution_count": 87,
   "id": "f6dfb296-ac26-4b00-ab63-296a369308cf",
   "metadata": {},
   "outputs": [
    {
     "data": {
      "text/plain": [
       "[Synset('cellulose.n.01')]"
      ]
     },
     "execution_count": 87,
     "metadata": {},
     "output_type": "execute_result"
    }
   ],
   "source": [
    "wn.synset(\"paper.n.01\").substance_meronyms()"
   ]
  },
  {
   "cell_type": "code",
   "execution_count": 131,
   "id": "ed229eb9-814e-4fa0-9562-0487f313380f",
   "metadata": {},
   "outputs": [
    {
     "name": "stdout",
     "output_type": "stream",
     "text": [
      "             A   B   C   D   E   F   G   H   I   J   K   L   M   N   O   P   Q   R   S   T   U   V   W   X   Y   Z \n",
      "female.txt 443 246 469 308 251 144 213 124  83 293 276 332 484 158  66 121   9 247 309 198  14 105  54   5  18  31 \n",
      "  male.txt 213 173 166 146 119  87 156 163  45 144  70 113 200  77  52 101  15 200 238 188  22  50 151   7  16  31 \n"
     ]
    },
    {
     "data": {
      "image/png": "[encoded data removed]",
      "text/plain": [
       "<Figure size 640x480 with 1 Axes>"
      ]
     },
     "metadata": {},
     "output_type": "display_data"
    },
    {
     "data": {
      "text/plain": [
       "<Axes: xlabel='Samples', ylabel='Counts'>"
      ]
     },
     "execution_count": 131,
     "metadata": {},
     "output_type": "execute_result"
    }
   ],
   "source": [
    "# 8. Conditional Frequency distribution over the Names Corpus that allows you to see \n",
    "# which initial letters are more frequent for males versus females\n",
    "\n",
    "names = nltk.corpus.names\n",
    "names.fileids()\n",
    "# What are the initial letters for both males and females \n",
    "cfd_names = nltk.ConditionalFreqDist(\n",
    "    (fileid, word[0])\n",
    "    for fileid in nltk.corpus.names.fileids()\n",
    "    for word in nltk.corpus.names.words(fileid)) \n",
    "cfd_names\n",
    "cfd_names.tabulate(condtions = nltk.corpus.names.fileids())\n",
    "cfd_names.plot()"
   ]
  },
  {
   "cell_type": "code",
   "execution_count": 59,
   "id": "e4488c34-a5d2-4727-9dcc-492d4db94287",
   "metadata": {},
   "outputs": [
    {
     "name": "stdout",
     "output_type": "stream",
     "text": [
      "Displaying 11 of 11 matches:\n",
      "ong the former , one was of a most monstrous size . ... This came towards us , \n",
      "ON OF THE PSALMS . \" Touching that monstrous bulk of the whale or ork we have r\n",
      "ll over with a heathenish array of monstrous clubs and spears . Some were thick\n",
      "d as you gazed , and wondered what monstrous cannibal and savage could ever hav\n",
      "that has survived the flood ; most monstrous and most mountainous ! That Himmal\n",
      "they might scout at Moby Dick as a monstrous fable , or still worse and more de\n",
      "th of Radney .'\" CHAPTER 55 Of the Monstrous Pictures of Whales . I shall ere l\n",
      "ing Scenes . In connexion with the monstrous pictures of whales , I am strongly\n",
      "ere to enter upon those still more monstrous stories of them which are to be fo\n",
      "ght have been rummaged out of this monstrous cabinet there is no telling . But \n",
      "of Whale - Bones ; for Whales of a monstrous size are oftentimes cast up dead u\n",
      "Displaying 11 of 11 matches:\n",
      ". \" Now , Palmer , you shall see a monstrous pretty girl .\" He immediately went\n",
      "your sister is to marry him . I am monstrous glad of it , for then I shall have\n",
      "ou may tell your sister . She is a monstrous lucky girl to get him , upon my ho\n",
      "k how you will like them . Lucy is monstrous pretty , and so good humoured and \n",
      " Jennings , \" I am sure I shall be monstrous glad of Miss Marianne ' s company \n",
      " usual noisy cheerfulness , \" I am monstrous glad to see you -- sorry I could n\n",
      "t however , as it turns out , I am monstrous glad there was never any thing in \n",
      "so scornfully ! for they say he is monstrous fond of her , as well he may . I s\n",
      "possible that she should .\" \" I am monstrous glad of it . Good gracious ! I hav\n",
      "thing of the kind . So then he was monstrous happy , and talked on some time ab\n",
      "e very genteel people . He makes a monstrous deal of money , and they keep thei\n"
     ]
    }
   ],
   "source": [
    "# 9. Pick a pair of texts and study the differences between them\n",
    "# Moby Dick # text 1\n",
    "# Sense and Sensibility # text 2\n",
    "\n",
    "# nltk.book.texts()\n",
    "text1.concordance(\"monstrous\")\n",
    "text2.concordance(\"monstrous\") "
   ]
  },
  {
   "cell_type": "code",
   "execution_count": 65,
   "id": "608dff8f-b75c-4dc9-880b-88a3092bf9eb",
   "metadata": {},
   "outputs": [
    {
     "name": "stdout",
     "output_type": "stream",
     "text": [
      "Displaying 25 of 35 matches:\n",
      " . And the LORD said , Behold , the people is one , and they have all one lang\n",
      "oods , and the women also , and the people . And the king of Sodom went out to\n",
      "that soul shall be cut off from his people ; he hath broken my covenant . And \n",
      "l be a mother of nations ; kings of people shall be of her . Then Abraham fell\n",
      "ound , both old and young , all the people from every quart And they called un\n",
      "stood up , and bowed himself to the people of the land , even to the children \n",
      "; in the presence of the sons of my people give I it th bury thy dead . And Ab\n",
      "raham bowed down himself before the people of the land . And he spake unto Eph\n",
      " unto Ephron in the audience of the people of the land , saying , But if thou \n",
      " of years ; and was gathered to his people . And his sons Isaac and Ishmael bu\n",
      "nd died ; and was gathered unto his people . And they dwelt from Havilah unto \n",
      "are in thy womb , and two manner of people shall be separated from thy bowels \n",
      "rated from thy bowels ; and the one people shall be stronger than the other pe\n",
      "le shall be stronger than the other people ; and the elder shall serve the you\n",
      "thou hast done unto us ? one of the people might lightly have lien with thy wi\n",
      " us . And Abimelech charged all his people , saying , He that toucheth this ma\n",
      "rth , and plenty of corn and wi Let people serve thee , and nations bow down t\n",
      " that thou mayest be a multitude of people ; And give thee the blessing of Abr\n",
      "ney , and came into the land of the people of the east . And he looked , and b\n",
      "and distressed : and he divided the people that was with him , and the flocks \n",
      "l with you , and we will become one people . But if ye will not hearken unto u\n",
      "us for to dwell with us , to be one people , if every male among us be circumc\n",
      ", that is , Bethel , he and all the people that were with him . And he built t\n",
      "nd died , and was gathered unto his people , being old and full of da and his \n",
      "ccording unto thy word shall all my people be rul only in the throne will I be\n",
      "Displaying 25 of 594 matches:\n",
      " the liberties and happiness of the people of the United States a Government i\n",
      "zens at large less than either . No people can be bound to acknowledge and ado\n",
      "rusted to the hands of the American people . Besides the ordinary objects subm\n",
      " been pleased to favor the American people with opportunities for deliberating\n",
      "which has been reposed in me by the people of united America . Previous to the\n",
      "e integrity and intelligence of the people , under an overruling Providence wh\n",
      "rtainty . The zeal and ardor of the people during the Revolutionary war , supp\n",
      "d certainly the only ones which the people at large had ever considered . But \n",
      "mity . In this dangerous crisis the people of America were not abandoned by th\n",
      "ny alteration in it but such as the people themselves , in the course of their\n",
      "gments of an honest and enlightened people ? For it is the people only that ar\n",
      " enlightened people ? For it is the people only that are represented . It is t\n",
      "ue throughout the whole body of the people . And what object or consideration \n",
      "y not be the choice of the American people , but of foreign nations . It may b\n",
      "ns who govern us , and not we , the people , who govern ourselves ; and candid\n",
      "which it may be exposed ) which the people of America have exhibited to the ad\n",
      "ance , and fortitude , conducting a people inspired with the same virtues and \n",
      "e voice of the legislatures and the people throughout the nation . On this sub\n",
      " by the judgments and wishes of the people , expressed in the mode prescribed \n",
      "d religion among all classes of the people , not only for their benign influen\n",
      "onscious honor and integrity of the people of America and the internal sentime\n",
      "rit , and resources of the American people , on which I have so often hazarded\n",
      "nd intellectual improvements of the people deeply engraven on my mind in early\n",
      " a veneration for the religion of a people who profess and call themselves Chr\n",
      "and interest , of the same American people pledged to support the Constitution\n"
     ]
    }
   ],
   "source": [
    "# nltk.book.texts()\n",
    "# The Book of Genesis \n",
    "text3.concordance(\"people\")\n",
    "\n",
    "# Inaugural Address Corpus \n",
    "text4.concordance(\"people\")"
   ]
  },
  {
   "cell_type": "code",
   "execution_count": 71,
   "id": "b3f5f016-a52f-4f6c-8dea-4b245d517c4f",
   "metadata": {},
   "outputs": [
    {
     "name": "stdout",
     "output_type": "stream",
     "text": [
      "44764 152901\n",
      "2789 10025\n"
     ]
    }
   ],
   "source": [
    "print(len(text3),len(text4))\n",
    "print(len(set(text3)), len(set(text4)))"
   ]
  },
  {
   "cell_type": "code",
   "execution_count": null,
   "id": "405c57e3-8b6d-4341-9131-7ac7151c665b",
   "metadata": {},
   "outputs": [],
   "source": [
    "\n",
    "# entries = nltk.corpus.cmudict.entries()          to count distinct, use dict() rather than entries()\n",
    "prondict = nltk.corpus.cmudict.dict()\n",
    "print('Distinct words:', len(prondict))\n",
    "\n",
    "# count words in the dictionary that have more than one possible pronunciation\n",
    "# iterate over the dict and find those whose values' length is greater than 1\n",
    "wordPron = 0\n",
    "for key in prondict:\n",
    "    if len(prondict[key]) > 1:\n",
    "        wordPron += 1\n",
    "print('Fractions of words with more than one possible pronunciation:', wordPron / len(prondict))"
   ]
  },
  {
   "cell_type": "code",
   "execution_count": 1,
   "id": "fb8be18b-aeaa-4827-8ac1-c0d4f142155c",
   "metadata": {},
   "outputs": [
    {
     "ename": "NameError",
     "evalue": "name 'nltk' is not defined",
     "output_type": "error",
     "traceback": [
      "\u001b[1;31m---------------------------------------------------------------------------\u001b[0m",
      "\u001b[1;31mNameError\u001b[0m                                 Traceback (most recent call last)",
      "Cell \u001b[1;32mIn[1], line 6\u001b[0m\n\u001b[0;32m      1\u001b[0m \u001b[38;5;66;03m# 12. CMU Processing Dictionary \u001b[39;00m\n\u001b[0;32m      2\u001b[0m \u001b[38;5;66;03m#len(nltk.corpus.cmudict.entries())\u001b[39;00m\n\u001b[0;32m      3\u001b[0m \n\u001b[0;32m      4\u001b[0m \u001b[38;5;66;03m#len(nltk.corpus.cmudict.words())\u001b[39;00m\n\u001b[1;32m----> 6\u001b[0m \u001b[38;5;28mprint\u001b[39m(\u001b[38;5;124m\"\u001b[39m\u001b[38;5;124mThe Number of distinct words: \u001b[39m\u001b[38;5;124m\"\u001b[39m, \u001b[38;5;28mlen\u001b[39m(\u001b[38;5;28mset\u001b[39m(nltk\u001b[38;5;241m.\u001b[39mcorpus\u001b[38;5;241m.\u001b[39mcmudict\u001b[38;5;241m.\u001b[39mwords())))\n\u001b[0;32m      7\u001b[0m cmudict_words \u001b[38;5;241m=\u001b[39m nltk\u001b[38;5;241m.\u001b[39mcorpus\u001b[38;5;241m.\u001b[39mcmudict\u001b[38;5;241m.\u001b[39mwords()\n",
      "\u001b[1;31mNameError\u001b[0m: name 'nltk' is not defined"
     ]
    }
   ],
   "source": [
    "# 12. CMU Processing Dictionary \n",
    "#len(nltk.corpus.cmudict.entries())\n",
    "\n",
    "#len(nltk.corpus.cmudict.words())\n",
    "\n",
    "print(\"The Number of distinct words: \", len(set(nltk.corpus.cmudict.words())))\n",
    "cmudict_words = nltk.corpus.cmudict.words()\n",
    "# nltk.corpus.cmudict.dict()"
   ]
  },
  {
   "cell_type": "code",
   "execution_count": null,
   "id": "46d10290-dafb-4b26-9642-f3c01b69af3a",
   "metadata": {},
   "outputs": [],
   "source": []
  },
  {
   "cell_type": "code",
   "execution_count": 33,
   "id": "c579b39b-508e-459d-ac0e-0a4c3de18471",
   "metadata": {},
   "outputs": [
    {
     "name": "stdout",
     "output_type": "stream",
     "text": [
      "0.7967119283931072\n"
     ]
    }
   ],
   "source": [
    "# 13. Percentage of noun synsets that have no hyponyms\n",
    "from nltk.corpus import wordnet as wn\n",
    "# Get al noun synsets\n",
    "nouns = list(wn.all_synsets('n')) # get all noun synsets\n",
    "nouns\n",
    "count = 0\n",
    "for synset in wn.all_synsets('n'): # for synset in all noun synsets \n",
    "    if (synset.hyponyms() == []): # if hyponyms are empty,\n",
    "        count += 1 # increment the count \n",
    "print(count /len(nouns)) # Nearly 80% of the noun synonym set have no hyponyms "
   ]
  },
  {
   "cell_type": "code",
   "execution_count": 35,
   "id": "e07c8398-04a3-470d-840b-b011d9f15539",
   "metadata": {},
   "outputs": [],
   "source": [
    "# 14. Define a function superglass(s) that takes a synset s as its argument and returns a string consisting of the concatenation of the definition of s, and\n",
    "# the definitions of all the hypernyms and hyponyms of s.\n",
    "def supergloss(s):\n",
    "    defis = ''\n",
    "    defis = defis + s.name() + ': ' + s.definition() + '\\n' # string concatenation: def + name + def of hypernym and hyponym\n",
    "    for synset in s.hypernyms():\n",
    "        defis = defis + synset.name() + ': ' + synset.definition() + '\\n'\n",
    "    for synset in s.hyponyms():\n",
    "        defis = defis + synset.name() + ': ' + synset.definition() + '\\n'\n",
    "    return defis"
   ]
  },
  {
   "cell_type": "code",
   "execution_count": 5,
   "id": "b6ca6239-28b9-4e15-b18a-7de14bdb8da5",
   "metadata": {},
   "outputs": [],
   "source": [
    "from nltk.corpus import brown\n",
    "fdist = nltk.FreqDist([word.lower() for word in nltk.corpus.brown.words() if word.isalpha()])\n",
    "#count words with frequency greater than or equal to 3 \n",
    "# print([w.lower() for w in fdist if fdist[w] >=3])"
   ]
  },
  {
   "cell_type": "code",
   "execution_count": 39,
   "id": "0a421ce7-ffcd-45d2-a6e1-6f76df61cb9b",
   "metadata": {},
   "outputs": [],
   "source": [
    "# 15. Program to find all words that occur at least three times in the Brown Corpus\n",
    "wordlist = []\n",
    "for word in fdist: \n",
    "    if fdist[word] >=3:\n",
    "        wordlist.append(word)"
   ]
  },
  {
   "cell_type": "code",
   "execution_count": 37,
   "id": "ea9e9cb7-3891-4d2e-89d3-11a989334959",
   "metadata": {},
   "outputs": [],
   "source": [
    "# 15. Write a program to find all words that occur at least three times in the Brown Corpus.\n",
    "from nltk.corpus import brown \n",
    "# def brown3times: \n",
    "\n",
    "nltk.corpus.brown.words() \n",
    "# frequency distribution of all words in Brown Corpus \n",
    "wordSet = []                              # create an empty list\n",
    "\n",
    "from nltk.probability import FreqDist\n",
    "fdist = FreqDist(w.lower() for w in brown.words() if w.isalpha())\n",
    "# iterate over the samples\n",
    "for sample in fdist:\n",
    "    if fdist[sample] >=3:\n",
    "        wordSet.append(sample)  "
   ]
  },
  {
   "cell_type": "code",
   "execution_count": 71,
   "id": "15dbd031-d5cd-4674-96d0-f2e4331bf78b",
   "metadata": {},
   "outputs": [
    {
     "name": "stdout",
     "output_type": "stream",
     "text": [
      "adventure 69342 8874 7.814063556457065\n",
      "belles_lettres 173096 18421 9.396666847619565\n",
      "editorial 61604 9890 6.22891809908999\n",
      "fiction 68488 9302 7.362717695119329\n",
      "government 70117 8181 8.570712626818237\n",
      "hobbies 82345 11935 6.899455383326351\n",
      "humor 21695 5017 4.324297388877816\n",
      "learned 181888 16859 10.788777507562726\n",
      "lore 110299 14503 7.60525408536165\n",
      "mystery 57169 6982 8.188054998567745\n",
      "news 100554 14394 6.98582742809504\n",
      "religion 39399 6373 6.182174799937235\n",
      "reviews 40704 8626 4.718757245536749\n",
      "romance 70022 8452 8.284666351159489\n",
      "science_fiction 14470 3233 4.475719146303742\n"
     ]
    }
   ],
   "source": [
    "# 16. Write a program to generate a table of lexical diversity scores (i.e., token/type\n",
    "# ratios), as we saw in Table 1-1. Include the full set of Brown Corpus genres\n",
    "# (nltk.corpus.brown.categories()). Which genre has the lowest diversity (greatest\n",
    "# number of tokens per type)? \n",
    "for category in nltk.corpus.brown.categories(): \n",
    "    token = len(nltk.corpus.brown.words(categories = category))\n",
    "    type = len(set(nltk.corpus.brown.words(categories = category)))\n",
    "    diversity = token/type \n",
    "    print(category, token, type, diversity) \n",
    "\n",
    "#len(nltk.corpus.brown.words()) # number of token \n",
    "# set(nltk.corpus.brown.words()) # word types"
   ]
  },
  {
   "cell_type": "code",
   "execution_count": 150,
   "id": "34b4dc9f-0b7c-4ec5-95ac-921f68cafdda",
   "metadata": {},
   "outputs": [],
   "source": [
    "def generate_table(text):\n",
    "    for category in text.categories(): \n",
    "        token = len(text.words(categories = category))\n",
    "        type = len(set(text.words(categories = category)))\n",
    "        diversity = token/type \n",
    "        print(category, token, type, diversity) "
   ]
  },
  {
   "cell_type": "code",
   "execution_count": 152,
   "id": "ff3200d9-2f2b-49d9-96d6-4bb74ed4f134",
   "metadata": {},
   "outputs": [
    {
     "name": "stdout",
     "output_type": "stream",
     "text": [
      "adventure 69342 8874 7.814063556457065\n",
      "belles_lettres 173096 18421 9.396666847619565\n",
      "editorial 61604 9890 6.22891809908999\n",
      "fiction 68488 9302 7.362717695119329\n",
      "government 70117 8181 8.570712626818237\n",
      "hobbies 82345 11935 6.899455383326351\n",
      "humor 21695 5017 4.324297388877816\n",
      "learned 181888 16859 10.788777507562726\n",
      "lore 110299 14503 7.60525408536165\n",
      "mystery 57169 6982 8.188054998567745\n",
      "news 100554 14394 6.98582742809504\n",
      "religion 39399 6373 6.182174799937235\n",
      "reviews 40704 8626 4.718757245536749\n",
      "romance 70022 8452 8.284666351159489\n",
      "science_fiction 14470 3233 4.475719146303742\n"
     ]
    }
   ],
   "source": [
    "generate_table(nltk.corpus.brown)"
   ]
  },
  {
   "cell_type": "code",
   "execution_count": 81,
   "id": "1ae004a5-13fa-490f-8543-38d8b7f7e337",
   "metadata": {},
   "outputs": [
    {
     "data": {
      "text/plain": [
       "[('one', 3292),\n",
       " ('would', 2714),\n",
       " ('said', 1961),\n",
       " ('new', 1635),\n",
       " ('could', 1601),\n",
       " ('time', 1598),\n",
       " ('two', 1412),\n",
       " ('may', 1402),\n",
       " ('first', 1361),\n",
       " ('like', 1292),\n",
       " ('man', 1207),\n",
       " ('even', 1170),\n",
       " ('made', 1125),\n",
       " ('also', 1069),\n",
       " ('many', 1030),\n",
       " ('must', 1013),\n",
       " ('af', 996),\n",
       " ('back', 966),\n",
       " ('years', 950),\n",
       " ('much', 937),\n",
       " ('way', 908),\n",
       " ('well', 897),\n",
       " ('people', 847),\n",
       " ('little', 831),\n",
       " ('state', 807),\n",
       " ('good', 806),\n",
       " ('make', 794),\n",
       " ('world', 787),\n",
       " ('still', 782),\n",
       " ('see', 772),\n",
       " ('men', 763),\n",
       " ('work', 762),\n",
       " ('long', 752),\n",
       " ('get', 749),\n",
       " ('life', 715),\n",
       " ('never', 697),\n",
       " ('day', 687),\n",
       " ('another', 684),\n",
       " ('know', 683),\n",
       " ('last', 676),\n",
       " ('us', 675),\n",
       " ('might', 672),\n",
       " ('great', 665),\n",
       " ('old', 661),\n",
       " ('year', 658),\n",
       " ('come', 630),\n",
       " ('since', 628),\n",
       " ('go', 626),\n",
       " ('came', 622),\n",
       " ('right', 613)]"
      ]
     },
     "execution_count": 81,
     "metadata": {},
     "output_type": "execute_result"
    }
   ],
   "source": [
    "# 17. Write a function that finds the 50 most frequently occurring words of a text that are not stopwords.\n",
    "from nltk.corpus import stopwords\n",
    "\n",
    "def find_50_most_frequent_words(text):\n",
    "    fdist = FreqDist(w.lower() for w in text if w.isalpha() and w.lower() not in stopwords.words('english'))\n",
    "    return fdist.most_common(50)\n",
    "\n",
    "find_50_most_frequent_words(nltk.corpus.brown.words())"
   ]
  },
  {
   "cell_type": "code",
   "execution_count": 106,
   "id": "d9e3aa4c-cc64-4db1-ba64-8d1b65070660",
   "metadata": {},
   "outputs": [
    {
     "data": {
      "text/plain": [
       "[(('Sperm', 'Whale'), 118),\n",
       " (('Moby', 'Dick'), 83),\n",
       " (('old', 'man'), 80),\n",
       " (('White', 'Whale'), 74),\n",
       " (('I', 'say'), 71),\n",
       " (('Captain', 'Ahab'), 61),\n",
       " (('sperm', 'whale'), 55),\n",
       " (('said', 'I'), 52),\n",
       " (('I', 'thought'), 44),\n",
       " (('I', 'know'), 43),\n",
       " (('Right', 'Whale'), 38),\n",
       " (('I', 'could'), 36),\n",
       " (('But', 'I'), 36),\n",
       " (('I', 'think'), 34),\n",
       " (('ye', 'see'), 34),\n",
       " (('thought', 'I'), 32),\n",
       " (('I', 'would'), 32),\n",
       " (('Captain', 'Peleg'), 32),\n",
       " (('cried', 'Ahab'), 32),\n",
       " (('white', 'whale'), 31),\n",
       " (('I', 'must'), 29),\n",
       " (('one', 'hand'), 28),\n",
       " (('I', 'saw'), 27),\n",
       " (('I', 'see'), 24),\n",
       " (('I', 'shall'), 24),\n",
       " (('cried', 'Stubb'), 23),\n",
       " (('one', 'side'), 22),\n",
       " (('every', 'one'), 21),\n",
       " (('let', 'us'), 20),\n",
       " (('never', 'mind'), 20),\n",
       " (('I', 'suppose'), 20),\n",
       " (('OF', 'THE'), 18),\n",
       " (('years', 'ago'), 18),\n",
       " (('I', 'never'), 18),\n",
       " (('I', 'mean'), 18),\n",
       " (('New', 'Bedford'), 18),\n",
       " (('At', 'last'), 18),\n",
       " (('said', 'Stubb'), 18),\n",
       " (('I', 'tell'), 17),\n",
       " (('cried', 'Starbuck'), 17),\n",
       " (('something', 'like'), 16),\n",
       " (('Cape', 'Horn'), 16),\n",
       " (('lower', 'jaw'), 16),\n",
       " (('Look', 'ye'), 16),\n",
       " (('well', 'known'), 15),\n",
       " (('But', 'though'), 15),\n",
       " (('I', 'guess'), 15),\n",
       " (('would', 'seem'), 15),\n",
       " (('ivory', 'leg'), 15),\n",
       " (('old', 'Ahab'), 15)]"
      ]
     },
     "execution_count": 106,
     "metadata": {},
     "output_type": "execute_result"
    }
   ],
   "source": [
    "# 18. Write a program to print the 50 most frequent bigrams (pairs of adjacent words) of a text,\n",
    "# omitting bigrams that contain stopwords.\n",
    "\n",
    "def find_50_most_frequent_bigrams(text):\n",
    "    bigram = list(nltk.bigrams(text)) \n",
    "    fdist = FreqDist(b for b in bigram if b[0].isalpha() and b[1].isalpha()\n",
    "                                      and b[0] not in stopwords.words('english') \n",
    "                                      and b[1] not in stopwords.words('english')) \n",
    "    return fdist.most_common(50)\n",
    "\n",
    "find_50_most_frequent_bigrams(text1)\n"
   ]
  },
  {
   "cell_type": "code",
   "execution_count": 178,
   "id": "7dfdf309-b7be-4635-b5f8-a571c0e64cc3",
   "metadata": {},
   "outputs": [],
   "source": [
    "# 19. Write a program to create a table of word frequencies by genre, like the one given\n",
    "# in Section 2.1 for modals. Choose your own words and try to find words whose\n",
    "# presence (or absence) is typical of a genre. Discuss your findings\n",
    "def count_modals(text):\n",
    "    modals = [\"can\", \"should\", \"might\", \"must\", \"could\"] # five modal verbs \n",
    "    cfd = nltk.ConditionalFreqDist(\n",
    "        (genre, word) \n",
    "        for genre in text.categories()\n",
    "        for word in text.words(categories = genre))\n",
    "    cfd.tabulate(conditions = text.categories(), samples = modals)"
   ]
  },
  {
   "cell_type": "code",
   "execution_count": 180,
   "id": "3122cb1a-55ad-4f73-aa0d-43c6cb66ed7e",
   "metadata": {},
   "outputs": [
    {
     "name": "stdout",
     "output_type": "stream",
     "text": [
      "                   can should  might   must  could \n",
      "      adventure     46     15     58     27    151 \n",
      " belles_lettres    246    102    113    170    213 \n",
      "      editorial    121     88     39     53     56 \n",
      "        fiction     37     35     44     55    166 \n",
      "     government    117    112     13    102     38 \n",
      "        hobbies    268     73     22     83     58 \n",
      "          humor     16      7      8      9     30 \n",
      "        learned    365    171    128    202    159 \n",
      "           lore    170     76     49     96    141 \n",
      "        mystery     42     29     57     30    141 \n",
      "           news     93     59     38     50     86 \n",
      "       religion     82     45     12     54     59 \n",
      "        reviews     45     18     26     19     40 \n",
      "        romance     74     32     51     45    193 \n",
      "science_fiction     16      3     12      8     49 \n"
     ]
    }
   ],
   "source": [
    "count_modals(nltk.corpus.brown)"
   ]
  },
  {
   "cell_type": "code",
   "execution_count": 202,
   "id": "1f31b2a5-427d-4094-bc44-b32d7cd2be58",
   "metadata": {},
   "outputs": [],
   "source": [
    "# 20. Write a function word_freq() that takes a word and the name of a section of the Brown Corpus as arguments, \n",
    "# and computes the frequency of the word in that section of the corpus \n",
    "\n",
    "#nltk.corpus.brown(\"can\", \"news\")\n",
    "def word_freq(word, section):\n",
    "    fdist = nltk.FreqDist(word for word in nltk.corpus.brown.words(categories = section))\n",
    "    return(fdist[word])"
   ]
  },
  {
   "cell_type": "code",
   "execution_count": 208,
   "id": "9e4f3d17-6ded-4b53-96fa-564e9c1cf4d4",
   "metadata": {},
   "outputs": [
    {
     "data": {
      "text/plain": [
       "93"
      ]
     },
     "execution_count": 208,
     "metadata": {},
     "output_type": "execute_result"
    }
   ],
   "source": [
    "word_freq(\"can\", \"news\") # frequency of word \"can\" in \"news\" genre"
   ]
  },
  {
   "cell_type": "code",
   "execution_count": 212,
   "id": "80e79a0a-16a0-416b-9fa5-35560390896d",
   "metadata": {},
   "outputs": [
    {
     "data": {
      "text/plain": [
       "74"
      ]
     },
     "execution_count": 212,
     "metadata": {},
     "output_type": "execute_result"
    }
   ],
   "source": [
    "word_freq(\"can\", \"romance\") #frequenc of word \"can\" in \"romance\" genre "
   ]
  },
  {
   "cell_type": "code",
   "execution_count": 55,
   "id": "0151dc4c-9446-4f8b-808b-b7a89613fe53",
   "metadata": {
    "scrolled": true
   },
   "outputs": [
    {
     "data": {
      "text/plain": [
       "234801"
      ]
     },
     "execution_count": 55,
     "metadata": {},
     "output_type": "execute_result"
    }
   ],
   "source": [
    "# 21. Write a program to guess the number of syllables contained in a text, making use of the CMU Pronouncing Disctionary \n",
    "from nltk.corpus import cmudict\n",
    "\n",
    "\n",
    "cmu_dict = cmudict.dict()\n",
    "\n",
    "def guess_syllables(text): \n",
    "    cmu_dict = cmudict.dict() \n",
    "    number = 0\n",
    "    for word in text:\n",
    "        if word.lower() in cmu_dict.keys(): \n",
    "            number += len(cmu_dict[word.lower()[0]])\n",
    "    return number\n",
    "guess_syllables(text1)"
   ]
  },
  {
   "cell_type": "code",
   "execution_count": 5,
   "id": "aaaf4f67-3740-462f-a9e9-91bf073f7c9e",
   "metadata": {},
   "outputs": [
    {
     "data": {
      "text/plain": [
       "40234"
      ]
     },
     "execution_count": 5,
     "metadata": {},
     "output_type": "execute_result"
    }
   ],
   "source": [
    "# 23. Zipf's Law: the frequency of a word type is inversely proportional to its rank \n",
    "\n",
    "def find_50_most_frequent_words(text):\n",
    "    fdist = nltk.FreqDist(w.lower() for w in text if w.isalpha())\n",
    "    return(len(fdist.most_common()))\n",
    "find_50_most_frequent_words(nltk.corpus.brown.words())\n",
    "\n"
   ]
  },
  {
   "cell_type": "code",
   "execution_count": 57,
   "id": "f2dd3e91-c9a5-459d-abdf-3d302b0ddf88",
   "metadata": {},
   "outputs": [
    {
     "data": {
      "text/plain": [
       "<Text: Moby like Dick by like Herman Melville like 1851>"
      ]
     },
     "execution_count": 57,
     "metadata": {},
     "output_type": "execute_result"
    }
   ],
   "source": [
    "def hedge(text):\n",
    "    new_version = list(text)                                 # convert the type from nltk.Text to list\n",
    "                                                             # to take advantage of insert() method\n",
    "    for i in range(2, len(text) + len(text) // 3, 3):        # loop over every third word\n",
    "                                                             # remember to add the length \n",
    "        new_version.insert(i, 'like')                        # and this is a simple version that \n",
    "                                                             # regards punctuations as words\n",
    "    return nltk.Text(new_version)                            # restore to nltk.Text\n",
    "\n",
    "hedge(text1)"
   ]
  },
  {
   "cell_type": "code",
   "execution_count": 53,
   "id": "b4b103ec-77ee-42fa-874a-bf55f008538f",
   "metadata": {},
   "outputs": [
    {
     "ename": "NameError",
     "evalue": "name 'fdist' is not defined",
     "output_type": "error",
     "traceback": [
      "\u001b[1;31m---------------------------------------------------------------------------\u001b[0m",
      "\u001b[1;31mNameError\u001b[0m                                 Traceback (most recent call last)",
      "Cell \u001b[1;32mIn[53], line 1\u001b[0m\n\u001b[1;32m----> 1\u001b[0m \u001b[38;5;28mlist\u001b[39m(fdist\u001b[38;5;241m.\u001b[39mmost_common)[\u001b[38;5;241m40234\u001b[39m]\n",
      "\u001b[1;31mNameError\u001b[0m: name 'fdist' is not defined"
     ]
    }
   ],
   "source": [
    "list(fdist.most_common)[40234]"
   ]
  },
  {
   "cell_type": "code",
   "execution_count": 85,
   "id": "a1381852-e96b-450e-b837-1d70b5f0f72f",
   "metadata": {},
   "outputs": [
    {
     "data": {
      "text/plain": [
       "('stupefying', 1)"
      ]
     },
     "execution_count": 85,
     "metadata": {},
     "output_type": "execute_result"
    }
   ],
   "source": [
    "\n"
   ]
  },
  {
   "cell_type": "code",
   "execution_count": 91,
   "id": "2937d423-e739-46f6-ab15-05aa00d9badf",
   "metadata": {},
   "outputs": [
    {
     "data": {
      "image/png": "[encoded data removed]",
      "text/plain": [
       "<Figure size 640x480 with 1 Axes>"
      ]
     },
     "metadata": {},
     "output_type": "display_data"
    }
   ],
   "source": [
    "def word_freq_rank(text):\n",
    "    fdist = nltk.FreqDist(word.lower() for word in text if word.isalpha())\n",
    "    fdist = fdist.most_common()\n",
    "    rank = []\n",
    "    word = []\n",
    "    freq = []\n",
    "    for r in range(1, len(fdist)):\n",
    "        rank.append(r)\n",
    "        word.append(fdist[r-1][0])\n",
    "        freq.append(fdist[r-1][1])\n",
    "    pylab.plot(rank, freq, 'bo')\n",
    "\n",
    "word_freq_rank(nltk.corpus.brown.words())"
   ]
  },
  {
   "cell_type": "code",
   "execution_count": 87,
   "id": "280fb352-a4fd-4a2a-b777-f6dc5bd80446",
   "metadata": {},
   "outputs": [],
   "source": [
    "import pylab\n",
    "import numpy as np\n",
    "import matplotlib as plt"
   ]
  },
  {
   "cell_type": "code",
   "execution_count": 103,
   "id": "0abe0b60-eb56-4f6a-9efc-69567a358dfb",
   "metadata": {},
   "outputs": [],
   "source": [
    "# 25. Define a function find_language() that takes a string as its argument and returns\n",
    "# a list of languages that have that string as a word. Use the udhr corpus and limit\n",
    "# your searches to files in the Latin-1 encoding.\n",
    "from nltk.corpus import udhr\n",
    "\n",
    "def find_language(string): \n",
    "    langs = []\n",
    "    for lang in nltk.corpus.udhr.fileids():\n",
    "        if lang.endswith('Latin1') and string in udhr.words(lang): \n",
    "            langs.append(lang)\n",
    "\n",
    "    return langs"
   ]
  },
  {
   "cell_type": "code",
   "execution_count": 115,
   "id": "814e8877-7c48-46a8-b036-934f8407ed4b",
   "metadata": {},
   "outputs": [
    {
     "data": {
      "text/plain": [
       "['Latin_Latina-Latin1']"
      ]
     },
     "execution_count": 115,
     "metadata": {},
     "output_type": "execute_result"
    }
   ],
   "source": [
    "find_language(\"hoc\")"
   ]
  },
  {
   "cell_type": "code",
   "execution_count": 123,
   "id": "9f5d219d-a2d4-4a92-8357-e17228df3abe",
   "metadata": {},
   "outputs": [
    {
     "data": {
      "text/plain": [
       "[Synset('dog.n.01'),\n",
       " Synset('frump.n.01'),\n",
       " Synset('dog.n.03'),\n",
       " Synset('cad.n.01'),\n",
       " Synset('frank.n.02'),\n",
       " Synset('pawl.n.01'),\n",
       " Synset('andiron.n.01')]"
      ]
     },
     "execution_count": 123,
     "metadata": {},
     "output_type": "execute_result"
    }
   ],
   "source": [
    "# 27. The polysemy of a word is the number of senses it has. Using WordNet, we can\n",
    "# determine that the noun dog has seven senses with len(wn.synsets('dog', 'n')).\n",
    "# Compute the average polysemy of nouns, verbs, adjectives, and adverbs according\n",
    "# to WordNet.\n",
    "\n",
    "from nltk.corpus import wordnet as wn \n",
    "wn.synsets('dog','n') # the noun dog has seven senses "
   ]
  }
 ],
 "metadata": {
  "kernelspec": {
   "display_name": "Python 3 (ipykernel)",
   "language": "python",
   "name": "python3"
  },
  "language_info": {
   "codemirror_mode": {
    "name": "ipython",
    "version": 3
   },
   "file_extension": ".py",
   "mimetype": "text/x-python",
   "name": "python",
   "nbconvert_exporter": "python",
   "pygments_lexer": "ipython3",
   "version": "3.12.4"
  }
 },
 "nbformat": 4,
 "nbformat_minor": 5
}
